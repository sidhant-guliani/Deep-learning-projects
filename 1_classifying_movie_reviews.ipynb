{
 "cells": [
  {
   "cell_type": "markdown",
   "metadata": {},
   "source": [
    "### DL for IMDb dataset\n",
    "We'll be working with \"IMDB dataset\", a set of 50,000 highly-polarized reviews from the Internet Movie Database. They are split into 25,000 reviews for training and 25,000 reviews for testing, each set consisting in 50% negative and 50% positive reviews.\n",
    "\n",
    "he IMDB sentiment classification dataset consists of 50,000 movie reviews from IMDB users that are labeled as either positive (1) or negative (0). The reviews are preprocessed and each one is encoded as a sequence of word indexes in the form of integers. The words within the reviews are indexed by their overall frequency within the dataset. For example, the integer “2” encodes the second most frequent word in the data. The 50,000 reviews are split into 25,000 for training and 25,000 for testing.\n",
    "\n",
    "The dataset was created by researchers at Stanford University and published in a 2011 paper, where they achieved 88.89% accuracy. It was also used within the “Bag of Words Meets Bags of Popcorn” Kaggle competition in 2011.\n",
    "\n",
    "\n",
    "### overfitting and underfitting for imdb dataset\n",
    "The issue in ML is the tension between Optimization and generalization. Optimization is the process of adjusting a model to get the best possible performance.\n",
    "\n",
    "### How did we find ovrfitting in thsi section?\n",
    "\n",
    "\n",
    "We will be reviewing overfitting scenerio in this section:\n",
    "##### Reducing the network size. \n",
    "here we are Comparing original [16.16,1], smaller [4,4,1] and bigger model [521,521,1]. We noticed that the smaller model worked better. intuitively, a model with more parameters will have more memorising capacity and therefore will eb able to easily learn a perfect dictionary like mapping between training samples and their target, a mapping without generalization power\n",
    "\n",
    "\n",
    "##### Adding weight regularization: \n",
    "in this we are putting constraints on the complexity of the network by forcing its weights to only take small values, whihc makes the distribution of weights more regular. this is called weight regularization. This can be done by dding to the loss function of the network a cost associated with having large weights.\n",
    "\n",
    "##### Adding droputs\n",
    "This technique may seem strange and arbitrary. Why would this help reduce overfitting? Geoff Hinton has said that he was inspired, among other things, by a fraud prevention mechanism used by banks -- in his own words: \"I went to my bank. The tellers kept changing and I asked one of them why. He said he didn’t know but they got moved around a lot. I figured it must be because it would require cooperation between employees to successfully defraud the bank. This made me realize that randomly removing a different subset of neurons on each example would prevent conspiracies and thus reduce overfitting\".\n",
    "\n",
    "The core idea is that introducing noise in the output values of a layer can break up happenstance patterns that are not significant (what Hinton refers to as \"conspiracies\"), which the network would start memorizing if no noise was present.\n",
    "\n",
    "\n",
    "### Summary: To prevent overfititng in neural networks following are the standard techniques:\n",
    "1. Getting more training data.\n",
    "2. Reducing the capacity of the network.\n",
    "3. Adding weight regularization.\n",
    "4. Adding dropout."
   ]
  },
  {
   "cell_type": "code",
   "execution_count": 89,
   "metadata": {},
   "outputs": [],
   "source": [
    "from keras.datasets import imdb\n",
    "import tensorflow as tf\n",
    "from tensorflow.keras import Sequential, Model, Input, regularizers\n",
    "from tensorflow.keras.layers import Dense, ReLU, Activation, Flatten, Dropout, Conv2D, MaxPooling2D, GlobalAveragePooling2D, BatchNormalization, ZeroPadding2D\n",
    "\n",
    "import numpy as np\n",
    "import matplotlib.pyplot as plt"
   ]
  },
  {
   "cell_type": "code",
   "execution_count": 14,
   "metadata": {},
   "outputs": [],
   "source": [
    "(train_data, train_labels), (test_data, test_labels) = imdb.load_data(num_words=10000)"
   ]
  },
  {
   "cell_type": "code",
   "execution_count": 15,
   "metadata": {},
   "outputs": [
    {
     "name": "stdout",
     "output_type": "stream",
     "text": [
      "train data  25000\n",
      "test data  25000\n"
     ]
    }
   ],
   "source": [
    "print('train data ', len(train_data))\n",
    "print('test data ', len(test_data))\n"
   ]
  },
  {
   "cell_type": "markdown",
   "metadata": {},
   "source": [
    "Since we restricted ourselves to the top 10,000 most frequent words, no word index will exceed 10,000:"
   ]
  },
  {
   "cell_type": "code",
   "execution_count": 4,
   "metadata": {},
   "outputs": [
    {
     "name": "stdout",
     "output_type": "stream",
     "text": [
      "9999\n"
     ]
    },
    {
     "data": {
      "text/plain": [
       "'\\nfor sequence in train_data:\\n    print(max(sequence))'"
      ]
     },
     "execution_count": 4,
     "metadata": {},
     "output_type": "execute_result"
    }
   ],
   "source": [
    "print(max([max(sequence) for sequence in train_data]))\n",
    "'''\n",
    "for sequence in train_data:\n",
    "    print(max(sequence))'''"
   ]
  },
  {
   "cell_type": "markdown",
   "metadata": {},
   "source": [
    "we can easily map these decode these reviews back to english"
   ]
  },
  {
   "cell_type": "code",
   "execution_count": 5,
   "metadata": {},
   "outputs": [
    {
     "name": "stdout",
     "output_type": "stream",
     "text": [
      "Downloading data from https://s3.amazonaws.com/text-datasets/imdb_word_index.json\n",
      "1646592/1641221 [==============================] - 1s 0us/step\n"
     ]
    }
   ],
   "source": [
    "word_index = imdb.get_word_index()"
   ]
  },
  {
   "cell_type": "code",
   "execution_count": 14,
   "metadata": {},
   "outputs": [
    {
     "name": "stdout",
     "output_type": "stream",
     "text": [
      "Help on built-in function items:\n",
      "\n",
      "items(...) method of builtins.dict instance\n",
      "    D.items() -> a set-like object providing a view on D's items\n",
      "\n"
     ]
    }
   ],
   "source": [
    "help(word_index.items)"
   ]
  },
  {
   "cell_type": "code",
   "execution_count": 11,
   "metadata": {},
   "outputs": [],
   "source": [
    "word_map = dict([(value,key) for (key, value) in word_index.items()])"
   ]
  },
  {
   "cell_type": "code",
   "execution_count": 19,
   "metadata": {},
   "outputs": [
    {
     "name": "stdout",
     "output_type": "stream",
     "text": [
      "None\n",
      "this\n",
      "film\n",
      "was\n",
      "just\n",
      "brilliant\n",
      "casting\n",
      "location\n",
      "scenery\n",
      "story\n",
      "direction\n",
      "everyone's\n",
      "really\n",
      "suited\n",
      "the\n",
      "part\n",
      "they\n",
      "played\n",
      "and\n",
      "you\n",
      "could\n",
      "just\n",
      "imagine\n",
      "being\n",
      "there\n",
      "robert\n",
      "None\n",
      "is\n",
      "an\n",
      "amazing\n",
      "actor\n",
      "and\n",
      "now\n",
      "the\n",
      "same\n",
      "being\n",
      "director\n",
      "None\n",
      "father\n",
      "came\n",
      "from\n",
      "the\n",
      "same\n",
      "scottish\n",
      "island\n",
      "as\n",
      "myself\n",
      "so\n",
      "i\n",
      "loved\n",
      "the\n",
      "fact\n",
      "there\n",
      "was\n",
      "a\n",
      "real\n",
      "connection\n",
      "with\n",
      "this\n",
      "film\n",
      "the\n",
      "witty\n",
      "remarks\n",
      "throughout\n",
      "the\n",
      "film\n",
      "were\n",
      "great\n",
      "it\n",
      "was\n",
      "just\n",
      "brilliant\n",
      "so\n",
      "much\n",
      "that\n",
      "i\n",
      "bought\n",
      "the\n",
      "film\n",
      "as\n",
      "soon\n",
      "as\n",
      "it\n",
      "was\n",
      "released\n",
      "for\n",
      "None\n",
      "and\n",
      "would\n",
      "recommend\n",
      "it\n",
      "to\n",
      "everyone\n",
      "to\n",
      "watch\n",
      "and\n",
      "the\n",
      "fly\n",
      "fishing\n",
      "was\n",
      "amazing\n",
      "really\n",
      "cried\n",
      "at\n",
      "the\n",
      "end\n",
      "it\n",
      "was\n",
      "so\n",
      "sad\n",
      "and\n",
      "you\n",
      "know\n",
      "what\n",
      "they\n",
      "say\n",
      "if\n",
      "you\n",
      "cry\n",
      "at\n",
      "a\n",
      "film\n",
      "it\n",
      "must\n",
      "have\n",
      "been\n",
      "good\n",
      "and\n",
      "this\n",
      "definitely\n",
      "was\n",
      "also\n",
      "None\n",
      "to\n",
      "the\n",
      "two\n",
      "little\n",
      "boy's\n",
      "that\n",
      "played\n",
      "the\n",
      "None\n",
      "of\n",
      "norman\n",
      "and\n",
      "paul\n",
      "they\n",
      "were\n",
      "just\n",
      "brilliant\n",
      "children\n",
      "are\n",
      "often\n",
      "left\n",
      "out\n",
      "of\n",
      "the\n",
      "None\n",
      "list\n",
      "i\n",
      "think\n",
      "because\n",
      "the\n",
      "stars\n",
      "that\n",
      "play\n",
      "them\n",
      "all\n",
      "grown\n",
      "up\n",
      "are\n",
      "such\n",
      "a\n",
      "big\n",
      "profile\n",
      "for\n",
      "the\n",
      "whole\n",
      "film\n",
      "but\n",
      "these\n",
      "children\n",
      "are\n",
      "amazing\n",
      "and\n",
      "should\n",
      "be\n",
      "praised\n",
      "for\n",
      "what\n",
      "they\n",
      "have\n",
      "done\n",
      "don't\n",
      "you\n",
      "think\n",
      "the\n",
      "whole\n",
      "story\n",
      "was\n",
      "so\n",
      "lovely\n",
      "because\n",
      "it\n",
      "was\n",
      "true\n",
      "and\n",
      "was\n",
      "someone's\n",
      "life\n",
      "after\n",
      "all\n",
      "that\n",
      "was\n",
      "shared\n",
      "with\n",
      "us\n",
      "all\n"
     ]
    }
   ],
   "source": [
    "decoded_review = []\n",
    "for i in train_data[0]:\n",
    "    print(word_map.get(i-3))"
   ]
  },
  {
   "cell_type": "code",
   "execution_count": 25,
   "metadata": {},
   "outputs": [
    {
     "data": {
      "text/plain": [
       "\"- this film was just brilliant casting location scenery story direction everyone's really suited the part they played and you could just imagine being there robert - is an amazing actor and now the same being director - father came from the same scottish island as myself so i loved the fact there was a real connection with this film the witty remarks throughout the film were great it was just brilliant so much that i bought the film as soon as it was released for - and would recommend it to everyone to watch and the fly fishing was amazing really cried at the end it was so sad and you know what they say if you cry at a film it must have been good and this definitely was also - to the two little boy's that played the - of norman and paul they were just brilliant children are often left out of the - list i think because the stars that play them all grown up are such a big profile for the whole film but these children are amazing and should be praised for what they have done don't you think the whole story was so lovely because it was true and was someone's life after all that was shared with us all\""
      ]
     },
     "execution_count": 25,
     "metadata": {},
     "output_type": "execute_result"
    }
   ],
   "source": [
    "' '.join([word_map.get(i-3, '-') for i in train_data[0]])"
   ]
  },
  {
   "cell_type": "markdown",
   "metadata": {},
   "source": [
    "### Data preparation\n",
    "\n",
    "right now the data is in form of list, we need to turn it to tensor. \n",
    "we can use one hot encoder, that will convvert them into vectors of 0's and 1's. example: this would mean for instance turning the sequence [3, 5] into a 10,000-dimensional vector that would be all-zeros except for indices 3 and 5, which would be ones. Then we could use as first layer in our network a Dense layer, capable of handling floating point vector data."
   ]
  },
  {
   "cell_type": "code",
   "execution_count": 16,
   "metadata": {},
   "outputs": [],
   "source": [
    "# dimensions = 10000\n",
    "def vectorizing(inputs, dim=10000):\n",
    "    output= np.zeros((len(inputs), dim))\n",
    "    for i, inp in enumerate(inputs):\n",
    "        #giving 1 to all the elements whcich are present in the data\n",
    "        output[i, inp] = 1\n",
    "        return output"
   ]
  },
  {
   "cell_type": "code",
   "execution_count": 17,
   "metadata": {},
   "outputs": [],
   "source": [
    "def vectorize_sequences(sequences, dimension=10000):\n",
    "    # Create an all-zero matrix of shape (len(sequences), dimension)\n",
    "    results = np.zeros((len(sequences), dimension))\n",
    "    for i, sequence in enumerate(sequences):\n",
    "        results[i, sequence] = 1.  # set specific indices of results[i] to 1s\n",
    "    return results\n",
    "\n",
    "# Our vectorized training data\n",
    "x_train = vectorize_sequences(train_data)\n",
    "# Our vectorized test data\n",
    "x_test = vectorize_sequences(test_data)\n",
    "y_train = np.asarray(train_labels).astype('float32')\n",
    "y_test = np.asarray(test_labels).astype('float32')"
   ]
  },
  {
   "cell_type": "code",
   "execution_count": 18,
   "metadata": {},
   "outputs": [],
   "source": [
    "x_train = vectorizing(train_data)\n",
    "x_test = vectorizing(test_data)\n",
    "y_train = np.asarray(train_labels).astype('float32')\n",
    "y_test = np.asarray(test_labels).astype('float32')"
   ]
  },
  {
   "cell_type": "code",
   "execution_count": 19,
   "metadata": {},
   "outputs": [
    {
     "name": "stdout",
     "output_type": "stream",
     "text": [
      "(25000, 10000)\n",
      "25000\n"
     ]
    }
   ],
   "source": [
    "print(x_test.shape)\n",
    "print(len(y_train))"
   ]
  },
  {
   "cell_type": "code",
   "execution_count": 20,
   "metadata": {},
   "outputs": [
    {
     "name": "stdout",
     "output_type": "stream",
     "text": [
      "(array([   1,    2,    4,    5,    6,    7,    8,    9,   10,   13,   14,\n",
      "         16,   23,   25,   27,   28,   29,   31,   32,   38,   46,   89,\n",
      "         92,  100,  123,  124,  157,  170,  177,  179,  202,  220,  239,\n",
      "        286,  354,  360,  394,  451,  468,  488,  591,  717, 1035, 1668,\n",
      "       5760, 7479, 7944], dtype=int64),)\n",
      "0.0\n"
     ]
    }
   ],
   "source": [
    "dd = (x_test[0]- x_test[1])\n",
    "print(np.where(dd != 0))\n",
    "print(dd[11])"
   ]
  },
  {
   "cell_type": "code",
   "execution_count": 22,
   "metadata": {},
   "outputs": [],
   "source": [
    "model = Sequential()\n",
    "\n",
    "model.add(Dense(16, activation='relu', input_shape=(10000,)))\n",
    "\n",
    "# Add one hidden layer \n",
    "# after the first layer, you don't need to specify\n",
    "# the size of the input anymore:\n",
    "model.add(Dense(16, activation='relu'))\n",
    "\n",
    "\n",
    "# Add an output layer \n",
    "# we used sigmond actication unction here so that the output is probability\n",
    "# score si between 0 to 1, indicating how likely is teh varible to have red wine or white wine\n",
    "model.add(Dense(1, activation='sigmoid'))\n",
    "\n",
    "model.compile(optimizer='rmsprop',loss='binary_crossentropy', metrics=['accuracy'])"
   ]
  },
  {
   "cell_type": "code",
   "execution_count": 23,
   "metadata": {},
   "outputs": [
    {
     "name": "stdout",
     "output_type": "stream",
     "text": [
      "_________________________________________________________________\n",
      "Layer (type)                 Output Shape              Param #   \n",
      "=================================================================\n",
      "dense_6 (Dense)              (None, 16)                160016    \n",
      "_________________________________________________________________\n",
      "dense_7 (Dense)              (None, 16)                272       \n",
      "_________________________________________________________________\n",
      "dense_8 (Dense)              (None, 1)                 17        \n",
      "=================================================================\n",
      "Total params: 160,305\n",
      "Trainable params: 160,305\n",
      "Non-trainable params: 0\n",
      "_________________________________________________________________\n"
     ]
    }
   ],
   "source": [
    "model.summary()"
   ]
  },
  {
   "cell_type": "code",
   "execution_count": 26,
   "metadata": {
    "scrolled": true
   },
   "outputs": [
    {
     "name": "stdout",
     "output_type": "stream",
     "text": [
      "Train on 15000 samples, validate on 10000 samples\n",
      "Epoch 1/20\n",
      "15000/15000 [==============================] - 2s 148us/step - loss: 0.0043 - accuracy: 0.9993 - val_loss: 0.6861 - val_accuracy: 0.8648\n",
      "Epoch 2/20\n",
      "15000/15000 [==============================] - 2s 150us/step - loss: 0.0045 - accuracy: 0.9991 - val_loss: 0.7221 - val_accuracy: 0.8654\n",
      "Epoch 3/20\n",
      "15000/15000 [==============================] - 3s 170us/step - loss: 0.0015 - accuracy: 0.9999 - val_loss: 0.7422 - val_accuracy: 0.8651\n",
      "Epoch 4/20\n",
      "15000/15000 [==============================] - 2s 153us/step - loss: 0.0030 - accuracy: 0.9996 - val_loss: 0.7724 - val_accuracy: 0.8635\n",
      "Epoch 5/20\n",
      "15000/15000 [==============================] - 2s 155us/step - loss: 8.9598e-04 - accuracy: 0.9999 - val_loss: 0.7937 - val_accuracy: 0.8631\n",
      "Epoch 6/20\n",
      "15000/15000 [==============================] - 2s 155us/step - loss: 6.7996e-04 - accuracy: 1.0000 - val_loss: 0.8364 - val_accuracy: 0.8637\n",
      "Epoch 7/20\n",
      "15000/15000 [==============================] - 2s 149us/step - loss: 8.7937e-04 - accuracy: 1.0000 - val_loss: 0.8607 - val_accuracy: 0.8634\n",
      "Epoch 8/20\n",
      "15000/15000 [==============================] - 2s 147us/step - loss: 3.2596e-04 - accuracy: 1.0000 - val_loss: 0.9012 - val_accuracy: 0.8596\n",
      "Epoch 9/20\n",
      "15000/15000 [==============================] - 2s 159us/step - loss: 0.0011 - accuracy: 0.9998 - val_loss: 0.9223 - val_accuracy: 0.8627\n",
      "Epoch 10/20\n",
      "15000/15000 [==============================] - 2s 149us/step - loss: 1.7771e-04 - accuracy: 1.0000 - val_loss: 0.9372 - val_accuracy: 0.8617\n",
      "Epoch 11/20\n",
      "15000/15000 [==============================] - 2s 164us/step - loss: 1.4104e-04 - accuracy: 1.0000 - val_loss: 0.9718 - val_accuracy: 0.8618\n",
      "Epoch 12/20\n",
      "15000/15000 [==============================] - 2s 153us/step - loss: 0.0022 - accuracy: 0.9994 - val_loss: 0.9994 - val_accuracy: 0.8595\n",
      "Epoch 13/20\n",
      "15000/15000 [==============================] - 2s 145us/step - loss: 7.7765e-05 - accuracy: 1.0000 - val_loss: 1.0091 - val_accuracy: 0.8606\n",
      "Epoch 14/20\n",
      "15000/15000 [==============================] - 2s 146us/step - loss: 6.4508e-05 - accuracy: 1.0000 - val_loss: 1.0210 - val_accuracy: 0.8594\n",
      "Epoch 15/20\n",
      "15000/15000 [==============================] - 2s 149us/step - loss: 5.2391e-05 - accuracy: 1.0000 - val_loss: 1.0464 - val_accuracy: 0.8594\n",
      "Epoch 16/20\n",
      "15000/15000 [==============================] - 2s 149us/step - loss: 5.6244e-04 - accuracy: 0.9997 - val_loss: 1.0794 - val_accuracy: 0.8588\n",
      "Epoch 17/20\n",
      "15000/15000 [==============================] - 2s 151us/step - loss: 2.7440e-05 - accuracy: 1.0000 - val_loss: 1.0880 - val_accuracy: 0.8590\n",
      "Epoch 18/20\n",
      "15000/15000 [==============================] - 2s 146us/step - loss: 2.3895e-05 - accuracy: 1.0000 - val_loss: 1.1011 - val_accuracy: 0.8584\n",
      "Epoch 19/20\n",
      "15000/15000 [==============================] - 2s 146us/step - loss: 1.9776e-05 - accuracy: 1.0000 - val_loss: 1.1199 - val_accuracy: 0.8581\n",
      "Epoch 20/20\n",
      "15000/15000 [==============================] - 2s 147us/step - loss: 0.0013 - accuracy: 0.9997 - val_loss: 1.1633 - val_accuracy: 0.8565\n"
     ]
    }
   ],
   "source": [
    "x_val = x_train[:10000]\n",
    "partial_x_train = x_train[10000:]\n",
    "\n",
    "y_val = y_train[:10000]\n",
    "partial_y_train = y_train[10000:]\n",
    "\n",
    "history = model.fit(partial_x_train,\n",
    "                    partial_y_train,\n",
    "                    epochs=20,\n",
    "                    batch_size=512,\n",
    "                    validation_data=(x_val, y_val))"
   ]
  },
  {
   "cell_type": "code",
   "execution_count": 57,
   "metadata": {},
   "outputs": [
    {
     "name": "stdout",
     "output_type": "stream",
     "text": [
      "dict_keys(['loss', 'acc', 'val_loss', 'val_acc'])\n"
     ]
    }
   ],
   "source": [
    "history_dict = history.history\n",
    "print(history_dict.keys())\n",
    "\n",
    "accuracy = history.history['acc']\n",
    "val_loss = history.history['val_loss']\n",
    "loss = history.history['loss']\n",
    "val_acc = history.history['val_acc']"
   ]
  },
  {
   "cell_type": "code",
   "execution_count": 59,
   "metadata": {},
   "outputs": [
    {
     "data": {
      "image/png": "[encoded data removed]",
      "text/plain": [
       "<Figure size 1080x576 with 1 Axes>"
      ]
     },
     "metadata": {
      "needs_background": "light"
     },
     "output_type": "display_data"
    }
   ],
   "source": [
    "epochs = range(1, len(accuracy) + 1)\n",
    "plt.figure(figsize=(15,8))\n",
    "plt.plot(epochs, loss, 'bo', label='Training loss')\n",
    "plt.plot(epochs, val_loss, 'b', label='Validation loss')\n",
    "plt.title('Training and validation loss')\n",
    "plt.xlabel('Epochs')\n",
    "plt.ylabel('Loss')\n",
    "plt.legend()\n",
    "\n",
    "plt.show()"
   ]
  },
  {
   "cell_type": "code",
   "execution_count": 61,
   "metadata": {},
   "outputs": [
    {
     "data": {
      "image/png": "[encoded data removed]",
      "text/plain": [
       "<Figure size 1080x576 with 1 Axes>"
      ]
     },
     "metadata": {
      "needs_background": "light"
     },
     "output_type": "display_data"
    }
   ],
   "source": [
    "plt.figure(figsize=(15,8))\n",
    "plt.plot(epochs, accuracy, 'bo', label='Training acc')\n",
    "plt.plot(epochs, val_acc, 'b', label='Validation acc')\n",
    "plt.title('Training and validation accuracy')\n",
    "plt.xlabel('Epochs')\n",
    "plt.ylabel('Loss')\n",
    "plt.legend()\n",
    "plt.show()"
   ]
  },
  {
   "cell_type": "markdown",
   "metadata": {},
   "source": [
    "As you can see, the training loss decreases with every epoch and the training accuracy increases with every epoch. That's what you would expect when running gradient descent optimization -- the quantity you are trying to minimize should get lower with every iteration. But that isn't the case for the validation loss and accuracy: they seem to peak at the fourth epoch. This is an example of what we were warning against earlier: a model that performs better on the training data isn't necessarily a model that will do better on data it has never seen before. In precise terms, what you are seeing is \"overfitting\": after the second epoch, we are over-optimizing on the training data, and we ended up learning representations that are specific to the training data and do not generalize to data outside of the training set.\n",
    "\n",
    "In this case, to prevent overfitting, we could simply stop training after three epochs. In general, there is a range of techniques you can leverage to mitigate overfitting, which we will cover in the next chapter."
   ]
  },
  {
   "cell_type": "code",
   "execution_count": 57,
   "metadata": {},
   "outputs": [
    {
     "name": "stdout",
     "output_type": "stream",
     "text": [
      "Epoch 1/4\n",
      "25000/25000 [==============================] - 4s 161us/sample - loss: 0.4718 - acc: 0.8185\n",
      "Epoch 2/4\n",
      "25000/25000 [==============================] - 3s 101us/sample - loss: 0.2687 - acc: 0.9080\n",
      "Epoch 3/4\n",
      "25000/25000 [==============================] - 3s 102us/sample - loss: 0.2049 - acc: 0.9274\n",
      "Epoch 4/4\n",
      "25000/25000 [==============================] - 2s 100us/sample - loss: 0.1725 - acc: 0.9372\n",
      "25000/25000 [==============================] - 5s 209us/sample - loss: 0.2947 - acc: 0.8832\n",
      "[0.29469839240550993, 0.88324]\n"
     ]
    }
   ],
   "source": [
    "model = Sequential()\n",
    "model.add(Dense(16, input_shape = (10000, ), activation = 'relu'))\n",
    "model.add(Dense(16, activation = 'relu'))\n",
    "model.add(Dense(1, activation = 'sigmoid'))\n",
    "\n",
    "model.compile(optimizer = 'rmsprop',\n",
    "             loss = 'binary_crossentropy',\n",
    "             metrics=['accuracy'])\n",
    "\n",
    "model.fit(x_train, y_train, epochs = 4, batch_size=512)\n",
    "results = model.evaluate(x_test,y_test)\n",
    "print(results)"
   ]
  },
  {
   "cell_type": "code",
   "execution_count": 64,
   "metadata": {},
   "outputs": [
    {
     "data": {
      "text/plain": [
       "array([[0.10251948],\n",
       "       [0.9983188 ],\n",
       "       [0.7473016 ],\n",
       "       ...,\n",
       "       [0.06337675],\n",
       "       [0.04695469],\n",
       "       [0.5187792 ]], dtype=float32)"
      ]
     },
     "execution_count": 64,
     "metadata": {},
     "output_type": "execute_result"
    }
   ],
   "source": [
    "model.predict(x_test)"
   ]
  },
  {
   "cell_type": "markdown",
   "metadata": {},
   "source": [
    "#### More experiments with model\n",
    "\n",
    "1. trying using just 1/ 3 hidden layer"
   ]
  },
  {
   "cell_type": "code",
   "execution_count": 65,
   "metadata": {},
   "outputs": [
    {
     "name": "stdout",
     "output_type": "stream",
     "text": [
      "Epoch 1/4\n",
      "25000/25000 [==============================] - 3s 117us/sample - loss: 0.4316 - acc: 0.8305\n",
      "Epoch 2/4\n",
      "25000/25000 [==============================] - 3s 111us/sample - loss: 0.2590 - acc: 0.9095\n",
      "Epoch 3/4\n",
      "25000/25000 [==============================] - 3s 111us/sample - loss: 0.2040 - acc: 0.9295\n",
      "Epoch 4/4\n",
      "25000/25000 [==============================] - 3s 111us/sample - loss: 0.1724 - acc: 0.9404\n",
      "25000/25000 [==============================] - 3s 107us/sample - loss: 0.2846 - acc: 0.8873\n",
      "[0.28456193967819216, 0.88732]\n"
     ]
    }
   ],
   "source": [
    "model = Sequential()\n",
    "model.add(Dense(32, input_shape = (10000, ), activation = 'relu'))\n",
    "#model.add(Dense(16, activation = 'relu'))\n",
    "model.add(Dense(1, activation = 'sigmoid'))\n",
    "\n",
    "model.compile(optimizer = 'rmsprop',\n",
    "             loss = 'binary_crossentropy',\n",
    "             metrics=['accuracy'])\n",
    "\n",
    "model.fit(x_train, y_train, epochs = 4, batch_size=512)\n",
    "results_e1 = model.evaluate(x_test,y_test)\n",
    "\n",
    "print(results)"
   ]
  },
  {
   "cell_type": "code",
   "execution_count": 66,
   "metadata": {},
   "outputs": [
    {
     "name": "stdout",
     "output_type": "stream",
     "text": [
      "Epoch 1/4\n",
      "25000/25000 [==============================] - 3s 121us/sample - loss: 0.4496 - acc: 0.8126\n",
      "Epoch 2/4\n",
      "25000/25000 [==============================] - 3s 110us/sample - loss: 0.2457 - acc: 0.9107\n",
      "Epoch 3/4\n",
      "25000/25000 [==============================] - 3s 110us/sample - loss: 0.1927 - acc: 0.9286\n",
      "Epoch 4/4\n",
      "25000/25000 [==============================] - 3s 110us/sample - loss: 0.1575 - acc: 0.9430\n",
      "25000/25000 [==============================] - 3s 109us/sample - loss: 0.3058 - acc: 0.8821\n",
      "[0.28456193967819216, 0.88732]\n"
     ]
    }
   ],
   "source": [
    "model = Sequential()\n",
    "model.add(Dense(32, input_shape = (10000, ), activation = 'relu'))\n",
    "model.add(Dense(16, activation = 'relu'))\n",
    "model.add(Dense(16, activation = 'relu'))\n",
    "model.add(Dense(1, activation = 'sigmoid'))\n",
    "\n",
    "model.compile(optimizer = 'rmsprop',\n",
    "             loss = 'binary_crossentropy',\n",
    "             metrics=['accuracy'])\n",
    "\n",
    "model.fit(x_train, y_train, epochs = 4, batch_size=512)\n",
    "results_e2 = model.evaluate(x_test,y_test)\n",
    "\n",
    "print(results)"
   ]
  },
  {
   "cell_type": "code",
   "execution_count": 40,
   "metadata": {},
   "outputs": [],
   "source": [
    "def build_model(filters):\n",
    "    tot_filt = len(filters)\n",
    "    print(tot_filt)\n",
    "    # adding the input layer\n",
    "    model = Sequential()\n",
    "    model.add(Dense(filters[0], activation='relu', input_shape=(10000,)))\n",
    "    # adding dense layer\n",
    "    for i in range(1, tot_filt-1):\n",
    "        print(i, filters[i])\n",
    "        model.add(Dense(filters[i], activation = 'relu'))\n",
    "        \n",
    "    model.add(Dense(filters[tot_filt-1], activation='softmax'))\n",
    "    # adding the compiler\n",
    "    model.compile(optimizer = 'rmsprop', loss = 'binary_crossentropy', metrics = ['accuracy'])\n",
    "    return model"
   ]
  },
  {
   "cell_type": "code",
   "execution_count": 62,
   "metadata": {},
   "outputs": [
    {
     "name": "stdout",
     "output_type": "stream",
     "text": [
      "_________________________________________________________________\n",
      "Layer (type)                 Output Shape              Param #   \n",
      "=================================================================\n",
      "dense_62 (Dense)             (None, 16)                160016    \n",
      "_________________________________________________________________\n",
      "dense_63 (Dense)             (None, 16)                272       \n",
      "_________________________________________________________________\n",
      "dense_64 (Dense)             (None, 1)                 17        \n",
      "=================================================================\n",
      "Total params: 160,305\n",
      "Trainable params: 160,305\n",
      "Non-trainable params: 0\n",
      "_________________________________________________________________\n"
     ]
    }
   ],
   "source": [
    "model1 = Sequential()\n",
    "model1.add(Dense(16, activation='relu', input_shape=(10000,)))\n",
    "# Add one hidden layer \n",
    "# after the first layer, you don't need to specify\n",
    "# the size of the input anymore:\n",
    "model1.add(Dense(16, activation='relu'))\n",
    "\n",
    "# Add an output layer \n",
    "# we used sigmond actication unction here so that the output is probability\n",
    "# score si between 0 to 1, indicating how likely is teh varible to have red wine or white wine\n",
    "model1.add(Dense(1, activation='sigmoid'))\n",
    "\n",
    "model1.compile(optimizer='rmsprop',loss='binary_crossentropy', metrics=['accuracy'])\n",
    "model1.summary()"
   ]
  },
  {
   "cell_type": "markdown",
   "metadata": {},
   "source": [
    "## Trying to unerstand how to avoid overfitting here \n",
    "\n",
    "### Reducing the network's size"
   ]
  },
  {
   "cell_type": "code",
   "execution_count": 66,
   "metadata": {
    "scrolled": true
   },
   "outputs": [
    {
     "name": "stdout",
     "output_type": "stream",
     "text": [
      "_________________________________________________________________\n",
      "Layer (type)                 Output Shape              Param #   \n",
      "=================================================================\n",
      "dense_68 (Dense)             (None, 16)                160016    \n",
      "_________________________________________________________________\n",
      "dense_69 (Dense)             (None, 16)                272       \n",
      "_________________________________________________________________\n",
      "dense_70 (Dense)             (None, 1)                 17        \n",
      "=================================================================\n",
      "Total params: 160,305\n",
      "Trainable params: 160,305\n",
      "Non-trainable params: 0\n",
      "_________________________________________________________________\n",
      "Train on 25000 samples, validate on 25000 samples\n",
      "Epoch 1/20\n",
      "25000/25000 [==============================] - 5s 197us/sample - loss: 0.4579 - acc: 0.8197 - val_loss: 0.3465 - val_acc: 0.8704\n",
      "Epoch 2/20\n",
      "25000/25000 [==============================] - 5s 180us/sample - loss: 0.2590 - acc: 0.9090 - val_loss: 0.2853 - val_acc: 0.8898\n",
      "Epoch 3/20\n",
      "25000/25000 [==============================] - 4s 178us/sample - loss: 0.1965 - acc: 0.9319 - val_loss: 0.3070 - val_acc: 0.8770\n",
      "Epoch 4/20\n",
      "25000/25000 [==============================] - 4s 177us/sample - loss: 0.1674 - acc: 0.9414 - val_loss: 0.2951 - val_acc: 0.8840\n",
      "Epoch 5/20\n",
      "25000/25000 [==============================] - 5s 182us/sample - loss: 0.1430 - acc: 0.9518 - val_loss: 0.3144 - val_acc: 0.8792\n",
      "Epoch 6/20\n",
      "25000/25000 [==============================] - 5s 201us/sample - loss: 0.1242 - acc: 0.9573 - val_loss: 0.3448 - val_acc: 0.8742\n",
      "Epoch 7/20\n",
      "25000/25000 [==============================] - 5s 190us/sample - loss: 0.1112 - acc: 0.9617 - val_loss: 0.3580 - val_acc: 0.8717\n",
      "Epoch 8/20\n",
      "25000/25000 [==============================] - 4s 177us/sample - loss: 0.0981 - acc: 0.9675 - val_loss: 0.3788 - val_acc: 0.8715\n",
      "Epoch 9/20\n",
      "25000/25000 [==============================] - 4s 176us/sample - loss: 0.0848 - acc: 0.9718 - val_loss: 0.4185 - val_acc: 0.8634\n",
      "Epoch 10/20\n",
      "25000/25000 [==============================] - 4s 176us/sample - loss: 0.0746 - acc: 0.9752 - val_loss: 0.4398 - val_acc: 0.8658\n",
      "Epoch 11/20\n",
      "25000/25000 [==============================] - 4s 175us/sample - loss: 0.0665 - acc: 0.9792 - val_loss: 0.4602 - val_acc: 0.8616\n",
      "Epoch 12/20\n",
      "25000/25000 [==============================] - 4s 175us/sample - loss: 0.0568 - acc: 0.9824 - val_loss: 0.4892 - val_acc: 0.8589\n",
      "Epoch 13/20\n",
      "25000/25000 [==============================] - 4s 175us/sample - loss: 0.0489 - acc: 0.9858 - val_loss: 0.5326 - val_acc: 0.8542\n",
      "Epoch 14/20\n",
      "25000/25000 [==============================] - 4s 180us/sample - loss: 0.0438 - acc: 0.9867 - val_loss: 0.5556 - val_acc: 0.8552\n",
      "Epoch 15/20\n",
      "25000/25000 [==============================] - 4s 175us/sample - loss: 0.0349 - acc: 0.9907 - val_loss: 0.5937 - val_acc: 0.8572\n",
      "Epoch 16/20\n",
      "25000/25000 [==============================] - 5s 181us/sample - loss: 0.0319 - acc: 0.9912 - val_loss: 0.6163 - val_acc: 0.8562\n",
      "Epoch 17/20\n",
      "25000/25000 [==============================] - 4s 178us/sample - loss: 0.0277 - acc: 0.9918 - val_loss: 0.6442 - val_acc: 0.8536\n",
      "Epoch 18/20\n",
      "25000/25000 [==============================] - 5s 181us/sample - loss: 0.0215 - acc: 0.9946 - val_loss: 0.6823 - val_acc: 0.8531\n",
      "Epoch 19/20\n",
      "25000/25000 [==============================] - 4s 176us/sample - loss: 0.0163 - acc: 0.9963 - val_loss: 0.7199 - val_acc: 0.8513\n",
      "Epoch 20/20\n",
      "25000/25000 [==============================] - 4s 175us/sample - loss: 0.0162 - acc: 0.9957 - val_loss: 0.7583 - val_acc: 0.8490\n"
     ]
    }
   ],
   "source": [
    "# building a regular model with filters [16,16,1]\n",
    "model_original = Sequential()\n",
    "model_original.add(Dense(16, activation='relu', input_shape=(10000,)))\n",
    "# Add one hidden layer \n",
    "# after the first layer, you don't need to specify\n",
    "# the size of the input anymore:\n",
    "model_original.add(Dense(16, activation='relu'))\n",
    "\n",
    "# Add an output layer \n",
    "# we used sigmond actication unction here so that the output is probability\n",
    "# score si between 0 to 1, indicating how likely is teh varible to have red wine or white wine\n",
    "model_original.add(Dense(1, activation='sigmoid'))\n",
    "\n",
    "model_original.compile(optimizer='rmsprop',loss='binary_crossentropy', metrics=['accuracy'])\n",
    "model_original.summary()\n",
    "original_hist = model_original.fit(x_train, y_train,\n",
    "                                   epochs=20,\n",
    "                                   batch_size=512,\n",
    "                                   validation_data=(x_test, y_test))"
   ]
  },
  {
   "cell_type": "code",
   "execution_count": 67,
   "metadata": {
    "scrolled": true
   },
   "outputs": [
    {
     "name": "stdout",
     "output_type": "stream",
     "text": [
      "_________________________________________________________________\n",
      "Layer (type)                 Output Shape              Param #   \n",
      "=================================================================\n",
      "dense_71 (Dense)             (None, 4)                 40004     \n",
      "_________________________________________________________________\n",
      "dense_72 (Dense)             (None, 4)                 20        \n",
      "_________________________________________________________________\n",
      "dense_73 (Dense)             (None, 1)                 5         \n",
      "=================================================================\n",
      "Total params: 40,029\n",
      "Trainable params: 40,029\n",
      "Non-trainable params: 0\n",
      "_________________________________________________________________\n",
      "Train on 25000 samples, validate on 25000 samples\n",
      "Epoch 1/20\n",
      "25000/25000 [==============================] - 5s 189us/sample - loss: 0.5183 - acc: 0.8105 - val_loss: 0.4217 - val_acc: 0.8671\n",
      "Epoch 2/20\n",
      "25000/25000 [==============================] - 4s 163us/sample - loss: 0.3421 - acc: 0.8930 - val_loss: 0.3350 - val_acc: 0.8814\n",
      "Epoch 3/20\n",
      "25000/25000 [==============================] - 4s 164us/sample - loss: 0.2650 - acc: 0.9123 - val_loss: 0.2987 - val_acc: 0.8870\n",
      "Epoch 4/20\n",
      "25000/25000 [==============================] - 4s 173us/sample - loss: 0.2218 - acc: 0.9241 - val_loss: 0.2823 - val_acc: 0.8898\n",
      "Epoch 5/20\n",
      "25000/25000 [==============================] - 4s 175us/sample - loss: 0.1940 - acc: 0.9341 - val_loss: 0.2787 - val_acc: 0.8897\n",
      "Epoch 6/20\n",
      "25000/25000 [==============================] - 5s 184us/sample - loss: 0.1732 - acc: 0.9412 - val_loss: 0.2803 - val_acc: 0.8885\n",
      "Epoch 7/20\n",
      "25000/25000 [==============================] - 4s 176us/sample - loss: 0.1574 - acc: 0.9460 - val_loss: 0.2855 - val_acc: 0.8869\n",
      "Epoch 8/20\n",
      "25000/25000 [==============================] - 4s 174us/sample - loss: 0.1433 - acc: 0.9516 - val_loss: 0.2978 - val_acc: 0.8822\n",
      "Epoch 9/20\n",
      "25000/25000 [==============================] - 4s 178us/sample - loss: 0.1321 - acc: 0.9565 - val_loss: 0.3041 - val_acc: 0.8818\n",
      "Epoch 10/20\n",
      "25000/25000 [==============================] - 4s 165us/sample - loss: 0.1223 - acc: 0.9601 - val_loss: 0.3240 - val_acc: 0.8755\n",
      "Epoch 11/20\n",
      "25000/25000 [==============================] - 4s 162us/sample - loss: 0.1135 - acc: 0.9640 - val_loss: 0.3298 - val_acc: 0.8770\n",
      "Epoch 12/20\n",
      "25000/25000 [==============================] - 4s 167us/sample - loss: 0.1065 - acc: 0.9658 - val_loss: 0.3421 - val_acc: 0.8758\n",
      "Epoch 13/20\n",
      "25000/25000 [==============================] - 4s 165us/sample - loss: 0.0989 - acc: 0.9687 - val_loss: 0.3572 - val_acc: 0.8736\n",
      "Epoch 14/20\n",
      "25000/25000 [==============================] - 4s 159us/sample - loss: 0.0927 - acc: 0.9712 - val_loss: 0.3723 - val_acc: 0.8718\n",
      "Epoch 15/20\n",
      "25000/25000 [==============================] - 4s 161us/sample - loss: 0.0866 - acc: 0.9736 - val_loss: 0.3876 - val_acc: 0.8702\n",
      "Epoch 16/20\n",
      "25000/25000 [==============================] - 4s 161us/sample - loss: 0.0810 - acc: 0.9756 - val_loss: 0.4046 - val_acc: 0.8667\n",
      "Epoch 17/20\n",
      "25000/25000 [==============================] - 4s 162us/sample - loss: 0.0762 - acc: 0.9774 - val_loss: 0.4231 - val_acc: 0.8650\n",
      "Epoch 18/20\n",
      "25000/25000 [==============================] - 4s 164us/sample - loss: 0.0710 - acc: 0.9801 - val_loss: 0.4405 - val_acc: 0.8643\n",
      "Epoch 19/20\n",
      "25000/25000 [==============================] - 4s 161us/sample - loss: 0.0661 - acc: 0.9817 - val_loss: 0.4642 - val_acc: 0.8629\n",
      "Epoch 20/20\n",
      "25000/25000 [==============================] - 4s 167us/sample - loss: 0.0617 - acc: 0.9830 - val_loss: 0.4805 - val_acc: 0.8608\n"
     ]
    }
   ],
   "source": [
    "model_small = Sequential()\n",
    "model_small.add(Dense(4, activation='relu', input_shape=(10000,)))\n",
    "# Add one hidden layer \n",
    "# after the first layer, you don't need to specify\n",
    "# the size of the input anymore:\n",
    "model_small.add(Dense(4, activation='relu'))\n",
    "\n",
    "# Add an output layer \n",
    "# we used sigmond actication unction here so that the output is probability\n",
    "# score si between 0 to 1, indicating how likely is teh varible to have red wine or white wine\n",
    "model_small.add(Dense(1, activation='sigmoid'))\n",
    "\n",
    "model_small.compile(optimizer='rmsprop',loss='binary_crossentropy', metrics=['accuracy'])\n",
    "model_small.summary()\n",
    "small_hist = model_small.fit(x_train, y_train,\n",
    "                                   epochs=20,\n",
    "                                   batch_size=512,\n",
    "                                   validation_data=(x_test, y_test))"
   ]
  },
  {
   "cell_type": "code",
   "execution_count": 82,
   "metadata": {
    "scrolled": true
   },
   "outputs": [
    {
     "name": "stdout",
     "output_type": "stream",
     "text": [
      "_________________________________________________________________\n",
      "Layer (type)                 Output Shape              Param #   \n",
      "=================================================================\n",
      "dense_80 (Dense)             (None, 512)               5120512   \n",
      "_________________________________________________________________\n",
      "dense_81 (Dense)             (None, 512)               262656    \n",
      "_________________________________________________________________\n",
      "dense_82 (Dense)             (None, 1)                 513       \n",
      "=================================================================\n",
      "Total params: 5,383,681\n",
      "Trainable params: 5,383,681\n",
      "Non-trainable params: 0\n",
      "_________________________________________________________________\n",
      "Train on 25000 samples, validate on 25000 samples\n",
      "Epoch 1/20\n",
      "25000/25000 [==============================] - 14s 540us/sample - loss: 0.4671 - acc: 0.8009 - val_loss: 0.2959 - val_acc: 0.8854\n",
      "Epoch 2/20\n",
      "25000/25000 [==============================] - 13s 522us/sample - loss: 0.2206 - acc: 0.9142 - val_loss: 0.2820 - val_acc: 0.8878\n",
      "Epoch 3/20\n",
      "25000/25000 [==============================] - 13s 521us/sample - loss: 0.1318 - acc: 0.9507 - val_loss: 0.3286 - val_acc: 0.8826\n",
      "Epoch 4/20\n",
      "25000/25000 [==============================] - 12s 494us/sample - loss: 0.0710 - acc: 0.9808 - val_loss: 0.4267 - val_acc: 0.8811\n",
      "Epoch 5/20\n",
      "25000/25000 [==============================] - 12s 492us/sample - loss: 0.0640 - acc: 0.9854 - val_loss: 0.4961 - val_acc: 0.8790\n",
      "Epoch 6/20\n",
      "25000/25000 [==============================] - 12s 494us/sample - loss: 0.0562 - acc: 0.9919 - val_loss: 0.9407 - val_acc: 0.8217\n",
      "Epoch 7/20\n",
      "25000/25000 [==============================] - 13s 510us/sample - loss: 0.0029 - acc: 0.9994 - val_loss: 0.6677 - val_acc: 0.8797\n",
      "Epoch 8/20\n",
      "25000/25000 [==============================] - 13s 509us/sample - loss: 0.0794 - acc: 0.9882 - val_loss: 0.6209 - val_acc: 0.8790\n",
      "Epoch 9/20\n",
      "25000/25000 [==============================] - 13s 540us/sample - loss: 1.9945e-04 - acc: 1.0000 - val_loss: 0.7354 - val_acc: 0.8793\n",
      "Epoch 10/20\n",
      "25000/25000 [==============================] - 13s 500us/sample - loss: 3.3798e-05 - acc: 1.0000 - val_loss: 1.2609 - val_acc: 0.828205 - acc: 1.00\n",
      "Epoch 11/20\n",
      "25000/25000 [==============================] - 12s 489us/sample - loss: 0.0839 - acc: 0.9913 - val_loss: 0.7753 - val_acc: 0.8775\n",
      "Epoch 12/20\n",
      "25000/25000 [==============================] - 12s 495us/sample - loss: 1.5569e-05 - acc: 1.0000 - val_loss: 0.8261 - val_acc: 0.8791\n",
      "Epoch 13/20\n",
      "25000/25000 [==============================] - 13s 511us/sample - loss: 4.5293e-06 - acc: 1.0000 - val_loss: 0.8922 - val_acc: 0.8784\n",
      "Epoch 14/20\n",
      "25000/25000 [==============================] - 12s 498us/sample - loss: 0.0977 - acc: 0.9885 - val_loss: 1.0149 - val_acc: 0.8524\n",
      "Epoch 15/20\n",
      "25000/25000 [==============================] - 12s 498us/sample - loss: 0.0018 - acc: 0.9996 - val_loss: 0.9073 - val_acc: 0.8603\n",
      "Epoch 16/20\n",
      "25000/25000 [==============================] - 13s 506us/sample - loss: 0.0023 - acc: 0.9996 - val_loss: 3.2234 - val_acc: 0.6906\n",
      "Epoch 17/20\n",
      "25000/25000 [==============================] - 13s 533us/sample - loss: 0.0475 - acc: 0.9928 - val_loss: 0.7865 - val_acc: 0.8760\n",
      "Epoch 18/20\n",
      "25000/25000 [==============================] - 13s 507us/sample - loss: 1.1554e-05 - acc: 1.0000 - val_loss: 0.8580 - val_acc: 0.8768\n",
      "Epoch 19/20\n",
      "25000/25000 [==============================] - 13s 515us/sample - loss: 2.5479e-06 - acc: 1.0000 - val_loss: 0.9371 - val_acc: 0.8774\n",
      "Epoch 20/20\n",
      "25000/25000 [==============================] - 12s 491us/sample - loss: 5.5488e-07 - acc: 1.0000 - val_loss: 0.9981 - val_acc: 0.8768\n"
     ]
    }
   ],
   "source": [
    "model_big = Sequential()\n",
    "model_big.add(Dense(512, activation='relu', input_shape=(10000,)))\n",
    "# Add one hidden layer \n",
    "# after the first layer, you don't need to specify\n",
    "# the size of the input anymore:\n",
    "model_big.add(Dense(512, activation='relu'))\n",
    "\n",
    "# Add an output layer \n",
    "# we used sigmond actication unction here so that the output is probability\n",
    "# score si between 0 to 1, indicating how likely is teh varible to have red wine or white wine\n",
    "model_big.add(Dense(1, activation='sigmoid'))\n",
    "\n",
    "model_big.compile(optimizer='rmsprop',loss='binary_crossentropy', metrics=['accuracy'])\n",
    "model_big.summary()\n",
    "big_hist = model_big.fit(x_train, y_train,\n",
    "                                   epochs=20,\n",
    "                                   batch_size=512,\n",
    "                                   validation_data=(x_test, y_test))"
   ]
  },
  {
   "cell_type": "code",
   "execution_count": 83,
   "metadata": {
    "scrolled": true
   },
   "outputs": [
    {
     "data": {
      "text/plain": [
       "dict_keys(['loss', 'acc', 'val_loss', 'val_acc'])"
      ]
     },
     "execution_count": 83,
     "metadata": {},
     "output_type": "execute_result"
    }
   ],
   "source": [
    "big_hist.history.keys()"
   ]
  },
  {
   "cell_type": "code",
   "execution_count": 84,
   "metadata": {},
   "outputs": [],
   "source": [
    "epochs = range(1, 21)\n",
    "original_val_loss = original_hist.history['val_loss']\n",
    "small_model_val_loss = small_hist.history['val_loss']\n",
    "big_model_val_loss = big_hist.history['val_loss']\n",
    "\n",
    "original_loss = original_hist.history['loss']\n",
    "small_model_loss = small_hist.history['loss']\n",
    "big_model_loss = big_hist.history['loss']"
   ]
  },
  {
   "cell_type": "code",
   "execution_count": 85,
   "metadata": {},
   "outputs": [
    {
     "data": {
      "image/png": "[encoded data removed]",
      "text/plain": [
       "<Figure size 432x288 with 1 Axes>"
      ]
     },
     "metadata": {
      "needs_background": "light"
     },
     "output_type": "display_data"
    },
    {
     "data": {
      "image/png": "[encoded data removed]",
      "text/plain": [
       "<Figure size 432x288 with 1 Axes>"
      ]
     },
     "metadata": {
      "needs_background": "light"
     },
     "output_type": "display_data"
    },
    {
     "data": {
      "image/png": "[encoded data removed]",
      "text/plain": [
       "<Figure size 432x288 with 1 Axes>"
      ]
     },
     "metadata": {
      "needs_background": "light"
     },
     "output_type": "display_data"
    }
   ],
   "source": [
    "plt.figure()\n",
    "plt.title('Original model')\n",
    "plt.plot(epochs, original_val_loss, 'b-o', label='Val loss')\n",
    "plt.plot(epochs, original_loss, 'b-', label='train loss')\n",
    "plt.xlabel('Epochs')\n",
    "plt.ylabel('Validation loss')\n",
    "plt.legend()\n",
    "\n",
    "plt.figure()\n",
    "plt.title('Smaller model')\n",
    "plt.plot(epochs, small_model_val_loss, 'g-o', label='Val loss')\n",
    "plt.plot(epochs, small_model_loss, 'g-', label='train loss')\n",
    "plt.xlabel('Epochs')\n",
    "plt.ylabel('Validation loss')\n",
    "plt.legend()\n",
    "\n",
    "plt.figure()\n",
    "plt.title('Bigger model')\n",
    "plt.plot(epochs, big_model_val_loss, 'k-o', label='Val loss')\n",
    "plt.plot(epochs, big_model_loss, 'k-', label='train loss')\n",
    "plt.xlabel('Epochs')\n",
    "plt.ylabel('Validation loss')\n",
    "plt.legend()\n",
    "\n",
    "plt.show()"
   ]
  },
  {
   "cell_type": "code",
   "execution_count": 86,
   "metadata": {},
   "outputs": [
    {
     "data": {
      "image/png": "[encoded data removed]",
      "text/plain": [
       "<Figure size 432x288 with 1 Axes>"
      ]
     },
     "metadata": {
      "needs_background": "light"
     },
     "output_type": "display_data"
    }
   ],
   "source": [
    "plt.plot(epochs, original_val_loss, 'b-+', label='Original model')\n",
    "# \"bo\" is for \"blue dot\"\n",
    "plt.plot(epochs, small_model_val_loss, 'g-o', label='Smaller model')\n",
    "plt.plot(epochs, big_model_val_loss, 'k-*', label='bigger model')\n",
    "plt.xlabel('Epochs')\n",
    "plt.ylabel('Validation loss')\n",
    "plt.legend()\n",
    "\n",
    "plt.show()"
   ]
  },
  {
   "cell_type": "markdown",
   "metadata": {},
   "source": [
    "In the above plot we can see that thte smaller network starts overfitting later than the reference one (original) and its performace degrades slowly compareed to the original one.\n",
    "\n",
    "The bigger model is worse from the starting and overfits more severly and its validation loss is more noise. We can alos see theat the bigger model tends to go to zero training loss very quickly. hence it is more susceptible to overfitting (resulting in large difference between trainign and validation loss)"
   ]
  },
  {
   "cell_type": "code",
   "execution_count": 87,
   "metadata": {},
   "outputs": [
    {
     "data": {
      "image/png": "[encoded data removed]",
      "text/plain": [
       "<Figure size 432x288 with 1 Axes>"
      ]
     },
     "metadata": {
      "needs_background": "light"
     },
     "output_type": "display_data"
    }
   ],
   "source": [
    "plt.plot(epochs, original_loss, 'b-+', label='Original model')\n",
    "# \"bo\" is for \"blue dot\"\n",
    "plt.plot(epochs, small_model_loss, 'g-o', label='Smaller model')\n",
    "plt.plot(epochs, big_model_loss, 'k-*', label='bigger model')\n",
    "plt.xlabel('Epochs')\n",
    "plt.ylabel('training loss')\n",
    "plt.legend()\n",
    "\n",
    "plt.show()"
   ]
  },
  {
   "cell_type": "markdown",
   "metadata": {},
   "source": [
    "## Adding weight regularization \n",
    "\n",
    "The simpler the model, better it is. One way to avoid overfitting is to put contraints on the complexity of a network by forcing its weights to take only smaller values, whcih makes the diftribution of weights more regular. and this is done by adding to the loss function the cost associated with having large weights. the cost come in two flavours:\n",
    "        \n",
    "            1. L1 regularization:here the cost added is proportional to the absolute value of the weights coefficients \n",
    "            2. L2 regularization: where the cost added is proportional to the square of the value of the weights \n",
    "                                    coefficients (weight decay)"
   ]
  },
  {
   "cell_type": "code",
   "execution_count": 91,
   "metadata": {
    "scrolled": true
   },
   "outputs": [
    {
     "name": "stdout",
     "output_type": "stream",
     "text": [
      "_________________________________________________________________\n",
      "Layer (type)                 Output Shape              Param #   \n",
      "=================================================================\n",
      "dense_86 (Dense)             (None, 16)                160016    \n",
      "_________________________________________________________________\n",
      "dense_87 (Dense)             (None, 16)                272       \n",
      "_________________________________________________________________\n",
      "dense_88 (Dense)             (None, 1)                 17        \n",
      "=================================================================\n",
      "Total params: 160,305\n",
      "Trainable params: 160,305\n",
      "Non-trainable params: 0\n",
      "_________________________________________________________________\n",
      "Train on 25000 samples, validate on 25000 samples\n",
      "Epoch 1/20\n",
      "25000/25000 [==============================] - 5s 205us/sample - loss: 0.5161 - acc: 0.8111 - val_loss: 0.3968 - val_acc: 0.8701\n",
      "Epoch 2/20\n",
      "25000/25000 [==============================] - 5s 187us/sample - loss: 0.3199 - acc: 0.9041 - val_loss: 0.3301 - val_acc: 0.8881\n",
      "Epoch 3/20\n",
      "25000/25000 [==============================] - 5s 184us/sample - loss: 0.2699 - acc: 0.9189 - val_loss: 0.3231 - val_acc: 0.8887\n",
      "Epoch 4/20\n",
      "25000/25000 [==============================] - 4s 179us/sample - loss: 0.2457 - acc: 0.9286 - val_loss: 0.3242 - val_acc: 0.8875\n",
      "Epoch 5/20\n",
      "25000/25000 [==============================] - 4s 177us/sample - loss: 0.2295 - acc: 0.9340 - val_loss: 0.3321 - val_acc: 0.8838\n",
      "Epoch 6/20\n",
      "25000/25000 [==============================] - 4s 177us/sample - loss: 0.2193 - acc: 0.9398 - val_loss: 0.3382 - val_acc: 0.8832\n",
      "Epoch 7/20\n",
      "25000/25000 [==============================] - 4s 178us/sample - loss: 0.2109 - acc: 0.9435 - val_loss: 0.3536 - val_acc: 0.8778\n",
      "Epoch 8/20\n",
      "25000/25000 [==============================] - 4s 179us/sample - loss: 0.2074 - acc: 0.9439 - val_loss: 0.3646 - val_acc: 0.8754\n",
      "Epoch 9/20\n",
      "25000/25000 [==============================] - 5s 195us/sample - loss: 0.2011 - acc: 0.9459 - val_loss: 0.3644 - val_acc: 0.8762\n",
      "Epoch 10/20\n",
      "25000/25000 [==============================] - 5s 191us/sample - loss: 0.1970 - acc: 0.9486 - val_loss: 0.3740 - val_acc: 0.8747\n",
      "Epoch 11/20\n",
      "25000/25000 [==============================] - 5s 187us/sample - loss: 0.1923 - acc: 0.9507 - val_loss: 0.3771 - val_acc: 0.8738\n",
      "Epoch 12/20\n",
      "25000/25000 [==============================] - 4s 176us/sample - loss: 0.1890 - acc: 0.9512 - val_loss: 0.3970 - val_acc: 0.8718\n",
      "Epoch 13/20\n",
      "25000/25000 [==============================] - 4s 176us/sample - loss: 0.1882 - acc: 0.9502 - val_loss: 0.4145 - val_acc: 0.8648\n",
      "Epoch 14/20\n",
      "25000/25000 [==============================] - 4s 174us/sample - loss: 0.1849 - acc: 0.9531 - val_loss: 0.3948 - val_acc: 0.8713\n",
      "Epoch 15/20\n",
      "25000/25000 [==============================] - 4s 176us/sample - loss: 0.1794 - acc: 0.9552 - val_loss: 0.4241 - val_acc: 0.8676\n",
      "Epoch 16/20\n",
      "25000/25000 [==============================] - 4s 177us/sample - loss: 0.1790 - acc: 0.9533 - val_loss: 0.4070 - val_acc: 0.8697\n",
      "Epoch 17/20\n",
      "25000/25000 [==============================] - 4s 175us/sample - loss: 0.1761 - acc: 0.9556 - val_loss: 0.4203 - val_acc: 0.8668\n",
      "Epoch 18/20\n",
      "25000/25000 [==============================] - 4s 176us/sample - loss: 0.1710 - acc: 0.9574 - val_loss: 0.4317 - val_acc: 0.8672\n",
      "Epoch 19/20\n",
      "25000/25000 [==============================] - 5s 183us/sample - loss: 0.1734 - acc: 0.9562 - val_loss: 0.4439 - val_acc: 0.8606\n",
      "Epoch 20/20\n",
      "25000/25000 [==============================] - 4s 176us/sample - loss: 0.1715 - acc: 0.9572 - val_loss: 0.4323 - val_acc: 0.8676\n"
     ]
    }
   ],
   "source": [
    "l2_model = Sequential()\n",
    "l2_model.add(Dense(16, kernel_regularizer=regularizers.l2(0.001),activation='relu', input_shape=(10000,)))\n",
    "l2_model.add(Dense(16, kernel_regularizer=regularizers.l2(0.001),activation='relu'))\n",
    "l2_model.add(Dense(1, activation='sigmoid'))\n",
    "l2_model.compile(optimizer='rmsprop',loss='binary_crossentropy',metrics=['acc'])\n",
    "l2_model.summary()\n",
    "l2_model_hist = l2_model.fit(x_train, y_train,epochs=20,batch_size=512, validation_data=(x_test, y_test))"
   ]
  },
  {
   "cell_type": "code",
   "execution_count": 93,
   "metadata": {},
   "outputs": [
    {
     "data": {
      "image/png": "[encoded data removed]",
      "text/plain": [
       "<Figure size 432x288 with 1 Axes>"
      ]
     },
     "metadata": {
      "needs_background": "light"
     },
     "output_type": "display_data"
    }
   ],
   "source": [
    "l2_model_val_loss = l2_model_hist.history['val_loss']\n",
    "plt.plot(epochs, original_val_loss, 'b-+', label='Original model')\n",
    "plt.plot(epochs, l2_model_val_loss, 'y-o', label='L2-regularized model')\n",
    "plt.plot(epochs, small_model_val_loss, 'g-o', label='Smaller model')\n",
    "#plt.plot(epochs, big_model_val_loss, 'k-*', label='bigger model')\n",
    "plt.xlabel('Epochs')\n",
    "plt.ylabel('Validation loss')\n",
    "plt.legend()\n",
    "\n",
    "plt.show()"
   ]
  },
  {
   "cell_type": "markdown",
   "metadata": {},
   "source": [
    "We can see that the model is workign fine here wit l2 regularization. The model is more resistant to overfitting than the reference model (original). \n",
    "\n",
    "### Adding dropout\n",
    "Droput is most commonly used regularization techniques for neural network. Dropout applied to layer, randomly drops (set to zeros) a number of output features of the layer during training. Let's say a given layer would normally have returned a vector [0.2, 0.5, 1.3, 0.8, 1.1] for a given input sample during training; after applying dropout, this vector will have a few zero entries distributed at random, e.g. [0, 0.5, \n",
    "1.3, 0, 1.1]. The \"dropout rate\" is the fraction of the features that are being zeroed-out; it is usually set between 0.2 and 0.5. At test time, no units are dropped out, and instead the layer's output values are scaled down by a factor equal to the dropout rate, so as to balance for the fact that more units are active than at training time."
   ]
  },
  {
   "cell_type": "code",
   "execution_count": null,
   "metadata": {},
   "outputs": [],
   "source": [
    "# At training time: we drop out 50% of the units in the output\n",
    "layer_output *= np.randint(0, high=2, size=layer_output.shape)\n"
   ]
  },
  {
   "cell_type": "code",
   "execution_count": 94,
   "metadata": {},
   "outputs": [
    {
     "name": "stdout",
     "output_type": "stream",
     "text": [
      "WARNING:tensorflow:From C:\\Users\\Sidhant\\Anaconda3\\lib\\site-packages\\tensorflow\\python\\keras\\layers\\core.py:143: calling dropout (from tensorflow.python.ops.nn_ops) with keep_prob is deprecated and will be removed in a future version.\n",
      "Instructions for updating:\n",
      "Please use `rate` instead of `keep_prob`. Rate should be set to `rate = 1 - keep_prob`.\n"
     ]
    }
   ],
   "source": [
    "dpt_model = Sequential()\n",
    "dpt_model.add(Dense(16, activation='relu', input_shape=(10000,)))\n",
    "dpt_model.add(Dropout(0.5))\n",
    "dpt_model.add(Dense(16, activation='relu'))\n",
    "dpt_model.add(Dropout(0.5))\n",
    "dpt_model.add(Dense(1, activation='sigmoid'))\n",
    "\n",
    "dpt_model.compile(optimizer='rmsprop',\n",
    "                  loss='binary_crossentropy',\n",
    "                  metrics=['acc'])\n",
    "\n"
   ]
  },
  {
   "cell_type": "code",
   "execution_count": 95,
   "metadata": {},
   "outputs": [
    {
     "name": "stdout",
     "output_type": "stream",
     "text": [
      "Train on 25000 samples, validate on 25000 samples\n",
      "Epoch 1/20\n",
      "25000/25000 [==============================] - 6s 220us/sample - loss: 0.6202 - acc: 0.6389 - val_loss: 0.4729 - val_acc: 0.8543\n",
      "Epoch 2/20\n",
      "25000/25000 [==============================] - 5s 182us/sample - loss: 0.4696 - acc: 0.7919 - val_loss: 0.3500 - val_acc: 0.8810\n",
      "Epoch 3/20\n",
      "25000/25000 [==============================] - 4s 179us/sample - loss: 0.3796 - acc: 0.8524 - val_loss: 0.3081 - val_acc: 0.8860\n",
      "Epoch 4/20\n",
      "25000/25000 [==============================] - 5s 184us/sample - loss: 0.3207 - acc: 0.8861 - val_loss: 0.2832 - val_acc: 0.8867\n",
      "Epoch 5/20\n",
      "25000/25000 [==============================] - 5s 184us/sample - loss: 0.2804 - acc: 0.9057 - val_loss: 0.2873 - val_acc: 0.8870\n",
      "Epoch 6/20\n",
      "25000/25000 [==============================] - 5s 185us/sample - loss: 0.2454 - acc: 0.9179 - val_loss: 0.2892 - val_acc: 0.8850\n",
      "Epoch 7/20\n",
      "25000/25000 [==============================] - 4s 179us/sample - loss: 0.2242 - acc: 0.9254 - val_loss: 0.3075 - val_acc: 0.8855\n",
      "Epoch 8/20\n",
      "25000/25000 [==============================] - 4s 179us/sample - loss: 0.1992 - acc: 0.9322 - val_loss: 0.3240 - val_acc: 0.8806\n",
      "Epoch 9/20\n",
      "25000/25000 [==============================] - 4s 176us/sample - loss: 0.1889 - acc: 0.9364 - val_loss: 0.3543 - val_acc: 0.8823\n",
      "Epoch 10/20\n",
      "25000/25000 [==============================] - 4s 179us/sample - loss: 0.1711 - acc: 0.9420 - val_loss: 0.3670 - val_acc: 0.8785\n",
      "Epoch 11/20\n",
      "25000/25000 [==============================] - 4s 177us/sample - loss: 0.1607 - acc: 0.9456 - val_loss: 0.3830 - val_acc: 0.8756\n",
      "Epoch 12/20\n",
      "25000/25000 [==============================] - 4s 179us/sample - loss: 0.1509 - acc: 0.9491 - val_loss: 0.4031 - val_acc: 0.8744\n",
      "Epoch 13/20\n",
      "25000/25000 [==============================] - 4s 177us/sample - loss: 0.1442 - acc: 0.9498 - val_loss: 0.4142 - val_acc: 0.8731\n",
      "Epoch 14/20\n",
      "25000/25000 [==============================] - 4s 177us/sample - loss: 0.1365 - acc: 0.9526 - val_loss: 0.4647 - val_acc: 0.8768\n",
      "Epoch 15/20\n",
      "25000/25000 [==============================] - 5s 181us/sample - loss: 0.1312 - acc: 0.9556 - val_loss: 0.4701 - val_acc: 0.8734\n",
      "Epoch 16/20\n",
      "25000/25000 [==============================] - 4s 179us/sample - loss: 0.1326 - acc: 0.9562 - val_loss: 0.4993 - val_acc: 0.8751\n",
      "Epoch 17/20\n",
      "25000/25000 [==============================] - 5s 182us/sample - loss: 0.1217 - acc: 0.9600 - val_loss: 0.5098 - val_acc: 0.8698\n",
      "Epoch 18/20\n",
      "25000/25000 [==============================] - 4s 179us/sample - loss: 0.1255 - acc: 0.9581 - val_loss: 0.5375 - val_acc: 0.8720\n",
      "Epoch 19/20\n",
      "25000/25000 [==============================] - 5s 182us/sample - loss: 0.1221 - acc: 0.9608 - val_loss: 0.5455 - val_acc: 0.8718\n",
      "Epoch 20/20\n",
      "25000/25000 [==============================] - 4s 178us/sample - loss: 0.1216 - acc: 0.9611 - val_loss: 0.5396 - val_acc: 0.8658\n"
     ]
    }
   ],
   "source": [
    "dpt_model_hist = dpt_model.fit(x_train, y_train,\n",
    "                               epochs=20,\n",
    "                               batch_size=512,\n",
    "                               validation_data=(x_test, y_test))"
   ]
  },
  {
   "cell_type": "code",
   "execution_count": 97,
   "metadata": {},
   "outputs": [
    {
     "data": {
      "image/png": "[encoded data removed]",
      "text/plain": [
       "<Figure size 432x288 with 1 Axes>"
      ]
     },
     "metadata": {
      "needs_background": "light"
     },
     "output_type": "display_data"
    }
   ],
   "source": [
    "dpt_model_val_loss = dpt_model_hist.history['val_loss']\n",
    "\n",
    "plt.plot(epochs, original_val_loss, 'b-+', label='Original model')\n",
    "plt.plot(epochs, l2_model_val_loss, 'y-o', label='L2-regularized model')\n",
    "plt.plot(epochs, small_model_val_loss, 'g-o', label='Smaller model')\n",
    "plt.plot(epochs, dpt_model_val_loss, 'r-o', label='Dropout-regularized model')\n",
    "\n",
    "#plt.plot(epochs, big_model_val_loss, 'k-*', label='bigger model')\n",
    "plt.xlabel('Epochs')\n",
    "plt.ylabel('Validation loss')\n",
    "plt.legend()\n",
    "\n",
    "plt.show()"
   ]
  }
 ],
 "metadata": {
  "kernelspec": {
   "display_name": "Python 3",
   "language": "python",
   "name": "python3"
  },
  "language_info": {
   "codemirror_mode": {
    "name": "ipython",
    "version": 3
   },
   "file_extension": ".py",
   "mimetype": "text/x-python",
   "name": "python",
   "nbconvert_exporter": "python",
   "pygments_lexer": "ipython3",
   "version": "3.7.1"
  }
 },
 "nbformat": 4,
 "nbformat_minor": 2
}
