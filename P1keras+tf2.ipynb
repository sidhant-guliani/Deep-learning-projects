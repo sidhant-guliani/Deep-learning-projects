{
 "cells": [
  {
   "cell_type": "markdown",
   "metadata": {},
   "source": [
    "## Contents\n",
    "\n",
    "1. A brief introduction to:\n",
    "            \n",
    "        ANN: Artificial neural network\n",
    "        DNN: Deep neural network\n",
    "        CNN: describing how the layers work and what Conv2D stands for, with introduction to pooling, flattening,activation functions\n",
    "        \n",
    "2. VGG\n",
    "\n"
   ]
  },
  {
   "cell_type": "code",
   "execution_count": 14,
   "metadata": {},
   "outputs": [],
   "source": [
    "import tensorflow as tf\n",
    "from tensorflow.keras import Sequential, Model, Input\n",
    "from tensorflow.keras.layers import Dense, ReLU, Activation, Flatten, Dropout, Conv2D, MaxPooling2D\n",
    "\n",
    "import numpy as np\n",
    "from PIL import Image\n",
    "from IPython.display import Image"
   ]
  },
  {
   "cell_type": "markdown",
   "metadata": {},
   "source": [
    "#### There are two types \n",
    "    Sequential API\n",
    "    Functional API\n",
    "\n",
    "Using Sequential API"
   ]
  },
  {
   "cell_type": "code",
   "execution_count": 4,
   "metadata": {},
   "outputs": [],
   "source": [
    "# import sequential object (we have an empty model now)\n",
    "model = Sequential()\n",
    "\n",
    "# we are adding first layer (input) (10 nodes) with input shape 13 element vector (1D)\n",
    "model.add(Dense(10,input_shape=(13,), activation ='relu')) \n",
    "\n",
    "# specify hidden layer\n",
    "model.add(Dense(10, activation ='relu'))\n",
    "\n",
    "#Add the third layerof 1 node (output)\n",
    "model.add(Dense(1))\n",
    "model.compile(loss='mse', optimizer='rmsprop')"
   ]
  },
  {
   "cell_type": "code",
   "execution_count": 5,
   "metadata": {},
   "outputs": [
    {
     "name": "stdout",
     "output_type": "stream",
     "text": [
      "Model: \"sequential_2\"\n",
      "_________________________________________________________________\n",
      "Layer (type)                 Output Shape              Param #   \n",
      "=================================================================\n",
      "dense_5 (Dense)              (None, 10)                140       \n",
      "_________________________________________________________________\n",
      "dense_6 (Dense)              (None, 10)                110       \n",
      "_________________________________________________________________\n",
      "dense_7 (Dense)              (None, 1)                 11        \n",
      "=================================================================\n",
      "Total params: 261\n",
      "Trainable params: 261\n",
      "Non-trainable params: 0\n",
      "_________________________________________________________________\n"
     ]
    }
   ],
   "source": [
    "model.summary()"
   ]
  },
  {
   "cell_type": "raw",
   "metadata": {},
   "source": [
    "Binary Classifier"
   ]
  },
  {
   "cell_type": "code",
   "execution_count": 8,
   "metadata": {},
   "outputs": [],
   "source": [
    "model = Sequential()\n",
    "# we are adding first layer (input) (10 nodes) with input shape 13 element vector (1D)\n",
    "model.add(Dense(10,input_shape=(13,), activation ='relu')) \n",
    "# specify hidden layer\n",
    "model.add(Dense(10, activation ='relu'))\n",
    "#Add the third layerof 1 node (output)\n",
    "model.add(Dense(1, activation = 'sigmoid'))\n",
    "# we added the sigmond here to pass the result from the final node through a sigmond function\n",
    "\n",
    "# we are using the binary classifier so we are going to change the loss parameter here\n",
    "model.compile(loss='binary_crossentropy', optimizer='rmsprop', metrics = ['accuracy'])\n"
   ]
  },
  {
   "cell_type": "markdown",
   "metadata": {},
   "source": [
    "Multiclass classifier\n",
    "\n",
    "Notes: We are going to use Adam optimizer here (it encorporates root mean square, adapative gradiant methods)"
   ]
  },
  {
   "cell_type": "code",
   "execution_count": 12,
   "metadata": {},
   "outputs": [],
   "source": [
    "model = Sequential()\n",
    "# we are adding first layer (input) (10 nodes) with input shape 4 element vector (1D)\n",
    "# here its 4 because there are only 4 parameters in our dataset\n",
    "model.add(Dense(10, input_shape=(4,), activation ='relu')) \n",
    "\n",
    "# specify hidden layer\n",
    "model.add(Dense(10, activation ='relu'))\n",
    "\n",
    "#Add the third layerof 5 nodes (output) because there are 5 classes/labels\n",
    "model.add(Dense(1, activation = 'softmax'))\n",
    "\n",
    "model.compile(loss='categorical_crossentropy', optimizer='adam', metrics = ['accuracy'])\n"
   ]
  },
  {
   "cell_type": "markdown",
   "metadata": {},
   "source": []
  },
  {
   "cell_type": "code",
   "execution_count": null,
   "metadata": {},
   "outputs": [],
   "source": [
    "model = Sequential()\n",
    "# we are adding first layer (input) (10 nodes) with input shape 4 element vector (1D)\n",
    "# here its 3 because there are only 3 parameters in our dataset\n",
    "model.add(Dense(10, input_shape=(3,), activation ='relu')) \n",
    "# specify hidden layer\n",
    "model.add(Dense(10, activation ='relu'))\n",
    "\n",
    "#Add the third layerof 7 node (output) (5 for age froup and 2 for gender)\n",
    "model.add(Dense(7, activation = 'softmax'))\n",
    "\n",
    "model.compile(loss='categorical_crossentropy', optimizer='adam', metrics = ['accuracy'])\n"
   ]
  },
  {
   "cell_type": "markdown",
   "metadata": {},
   "source": [
    "Using functional API"
   ]
  },
  {
   "cell_type": "code",
   "execution_count": null,
   "metadata": {},
   "outputs": [],
   "source": [
    "\n",
    "# creating the input vector\n",
    "inputs=Input((13,))\n",
    "\n",
    "# creating the first(input) layer\n",
    "input = Dense(10)(inputs)\n",
    "hidden = Dense(10)(input)\n",
    "output = Dense(1)(hidden)\n",
    "\n",
    "model = Model(inputs, output)"
   ]
  },
  {
   "cell_type": "markdown",
   "metadata": {},
   "source": [
    "Binary classifier for \"Functional API approach\".\n"
   ]
  },
  {
   "cell_type": "code",
   "execution_count": null,
   "metadata": {},
   "outputs": [],
   "source": [
    "inputs=Input((13,))\n",
    "\n",
    "# creating the first(input) layer and tying the input vector\n",
    "input = Dense(10)(inputs)\n",
    "x = Dense(10)(input) #input layer\n",
    "x = Activation('relu')(x)\n",
    "x = Dense(10)(x) #hidden layer \n",
    "x = Activation('relu')(x)\n",
    "x = Dense(1)(x) #output layer\n",
    "outputs = Activation('sigmoid')(x)\n",
    "\n",
    "model = Model(inputs, output)"
   ]
  },
  {
   "cell_type": "markdown",
   "metadata": {},
   "source": [
    "Multi label Multicall Classifier"
   ]
  },
  {
   "cell_type": "code",
   "execution_count": 14,
   "metadata": {},
   "outputs": [],
   "source": [
    "inputs=Input((3,))\n",
    "\n",
    "# Creating the first(input) layer and tying the input vector\n",
    "x = Dense(10, activation='relu')(inputs) # input layer\n",
    "x = Dense(10, activation='relu')(x) #hidden layer \n",
    "\n",
    "# Creating two output layers and connecting them to the hidden layer\n",
    "# They both are taking copy for the hidden layer, at this step we are branching it.\n",
    "output1 = Dense(5,activation='softmax')(x) #output layer for \"age group\"\n",
    "output2 = Dense(2,activation='softmax')(x) # output layer for \"gender\"\n",
    "\n",
    "model = Model(inputs, [output1, output2])\n",
    "\n",
    "model.compile(loss='categorical_crossentropy', optimizer='adam', metrics = ['accuracy'])"
   ]
  },
  {
   "cell_type": "markdown",
   "metadata": {},
   "source": [
    "### Flattenign of layer and Regularization (using dropout) to avoid overfititng\n",
    "\n",
    "We add a layer at the beginning of our neural network to flatten the input,using class flatten. here we are workign towards MNIST dataset"
   ]
  },
  {
   "cell_type": "code",
   "execution_count": 17,
   "metadata": {},
   "outputs": [],
   "source": [
    "model = Sequential()\n",
    "#taking the put as 28*28 matrix and flattening it to 784 vector\n",
    "model.add(Flatten(input_shape = (28,28)))\n",
    "model.add(Dense(512, activation = 'relu'))\n",
    "model.add(Dropout(0.5))\n",
    "model.add(Dense(512, activation ='relu'))\n",
    "model.add(Dropout(0.5))\n",
    "\n",
    "#Add the third layerof 10 node (output) as the output can be any of 7 digits\n",
    "model.add(Dense(10, activation = 'softmax'))\n",
    "# the result from the final node through a softmax function\n",
    "\n",
    "# we are using the binary classifier so we are going to change the loss parameter here\n",
    "model.compile(loss='categorical_crossentropy', optimizer='adam', metrics = ['accuracy'])\n"
   ]
  },
  {
   "cell_type": "code",
   "execution_count": 18,
   "metadata": {},
   "outputs": [
    {
     "name": "stdout",
     "output_type": "stream",
     "text": [
      "Model: \"sequential_9\"\n",
      "_________________________________________________________________\n",
      "Layer (type)                 Output Shape              Param #   \n",
      "=================================================================\n",
      "flatten (Flatten)            (None, 784)               0         \n",
      "_________________________________________________________________\n",
      "dense_30 (Dense)             (None, 512)               401920    \n",
      "_________________________________________________________________\n",
      "dense_31 (Dense)             (None, 512)               262656    \n",
      "_________________________________________________________________\n",
      "dense_32 (Dense)             (None, 10)                5130      \n",
      "=================================================================\n",
      "Total params: 669,706\n",
      "Trainable params: 669,706\n",
      "Non-trainable params: 0\n",
      "_________________________________________________________________\n"
     ]
    }
   ],
   "source": [
    "model.summary()"
   ]
  },
  {
   "cell_type": "markdown",
   "metadata": {},
   "source": [
    "### CNN basic Sequential API Model\n",
    "\n",
    "Convolution layer (you mention the filter size and stride) ->  Rectified linear unit (ReLU()) -> MaxPool2D(reducing the size of feature map) -> flattening(to convert it to 1D vector) -> input to the DNN -> \n",
    "\n",
    "Step1: Convolutional layer of 16 filters as the first layer using the Conv2D class object. Number of filters means number of feature maps that will be created.\n",
    "\n",
    "Note:\n",
    "\n",
    "    1. Number of feature maps = number of filters\n",
    "    2. Stride 1 means the size of the feature map is same as the size of input image\n",
    "    3. Stride 2 means the size of the feaure map is reduced "
   ]
  },
  {
   "cell_type": "code",
   "execution_count": 7,
   "metadata": {},
   "outputs": [],
   "source": [
    "\n",
    "model = Sequential()\n",
    "\n",
    "# Create a convolutional layer with 16 3x3 filters and stride of two as the input layer\n",
    "# size of each filter will be a 3x3, which is specified by the parameter kernel_size\n",
    "# stride (2,2), the first digit is for horizontal stride and the second is for vertical stride\n",
    "\n",
    "# grey scale image is(128,128,1)\n",
    "# if its RGB then its (128,128,3)\n",
    "model.add(Conv2D(16, kernel_size=(3, 3), strides=(2, 2), padding=\"same\", input_shape=(128,128,1)))\n",
    "\n",
    "# next step is to pass the output(features map) from the input layer through a rectified linear unit activation funciton \n",
    "model.add(ReLU())\n",
    "\n",
    "# next step is to downsample the feature map into smaller pooled feature map\n",
    "model.add(MaxPooling2D(pool_size=(2,2), strides=(2,2)))\n",
    "\n",
    "# adding the flattenign layer to the flatten the pooled feature maps to a 1D input vector for the DNN classifier \n",
    "model.add(Flatten())\n",
    "\n",
    "# Add the input layer for the DNN backend\n",
    "model.add(Dense(512))\n",
    "model.add(ReLU())\n",
    "\n",
    "# adding the output layer, 26 nodes for clssifying (26 depends on how many classes you wanna classify)\n",
    "model.add(Dense(26))\n",
    "model.add(Activation('softmax'))\n",
    "\n",
    "# Categorical class entropy loss function for multiclass classifier\n",
    "model.compile(loss='categorical_crossentropy', optimizer='adam', metrics = ['accuracy'])\n"
   ]
  },
  {
   "cell_type": "code",
   "execution_count": 8,
   "metadata": {},
   "outputs": [
    {
     "name": "stdout",
     "output_type": "stream",
     "text": [
      "Model: \"sequential_1\"\n",
      "_________________________________________________________________\n",
      "Layer (type)                 Output Shape              Param #   \n",
      "=================================================================\n",
      "conv2d_2 (Conv2D)            (None, 64, 64, 16)        160       \n",
      "_________________________________________________________________\n",
      "re_lu_2 (ReLU)               (None, 64, 64, 16)        0         \n",
      "_________________________________________________________________\n",
      "max_pooling2d_2 (MaxPooling2 (None, 32, 32, 16)        0         \n",
      "_________________________________________________________________\n",
      "flatten_2 (Flatten)          (None, 16384)             0         \n",
      "_________________________________________________________________\n",
      "dense_4 (Dense)              (None, 512)               8389120   \n",
      "_________________________________________________________________\n",
      "re_lu_3 (ReLU)               (None, 512)               0         \n",
      "_________________________________________________________________\n",
      "dense_5 (Dense)              (None, 26)                13338     \n",
      "_________________________________________________________________\n",
      "activation_1 (Activation)    (None, 26)                0         \n",
      "=================================================================\n",
      "Total params: 8,402,618\n",
      "Trainable params: 8,402,618\n",
      "Non-trainable params: 0\n",
      "_________________________________________________________________\n"
     ]
    }
   ],
   "source": [
    "model.summary()"
   ]
  },
  {
   "cell_type": "markdown",
   "metadata": {},
   "source": [
    "(None, 64, 64, 16) -> The first value in this is the Batchsize which is \"None\" here, it will be bound when the model is being fed forward. 64 X 64 is the output size of the feature maps, 16 is total number of filters. \n",
    "\n",
    "\n",
    "### CNN Functional API"
   ]
  },
  {
   "cell_type": "code",
   "execution_count": 5,
   "metadata": {},
   "outputs": [],
   "source": [
    "inputs = Input(shape=(128, 128, 1))\n",
    "layer = Conv2D(16, kernel_size=(3, 3), strides=(2, 2), padding=\"same\", activation='relu')(inputs)\n",
    "layer = MaxPooling2D(pool_size=(2,2), strides=(2,2))(layer)\n",
    "layer = Flatten()(layer)\n",
    "layer = Dense(512, activation='relu')(layer)\n",
    "outputs = Dense(26,activation='softmax')(layer)\n",
    "\n",
    "model = Model(inputs,outputs)"
   ]
  },
  {
   "cell_type": "code",
   "execution_count": 6,
   "metadata": {},
   "outputs": [
    {
     "name": "stdout",
     "output_type": "stream",
     "text": [
      "Model: \"model\"\n",
      "_________________________________________________________________\n",
      "Layer (type)                 Output Shape              Param #   \n",
      "=================================================================\n",
      "input_1 (InputLayer)         [(None, 128, 128, 1)]     0         \n",
      "_________________________________________________________________\n",
      "conv2d_1 (Conv2D)            (None, 64, 64, 16)        160       \n",
      "_________________________________________________________________\n",
      "max_pooling2d_1 (MaxPooling2 (None, 32, 32, 16)        0         \n",
      "_________________________________________________________________\n",
      "flatten_1 (Flatten)          (None, 16384)             0         \n",
      "_________________________________________________________________\n",
      "dense_2 (Dense)              (None, 512)               8389120   \n",
      "_________________________________________________________________\n",
      "dense_3 (Dense)              (None, 26)                13338     \n",
      "=================================================================\n",
      "Total params: 8,402,618\n",
      "Trainable params: 8,402,618\n",
      "Non-trainable params: 0\n",
      "_________________________________________________________________\n"
     ]
    }
   ],
   "source": [
    "model.summary()"
   ]
  },
  {
   "cell_type": "markdown",
   "metadata": {},
   "source": [
    "# VGG net\n",
    "\n",
    "This can be done in two ways: \n",
    "        \n",
    "        Sequential flow\n",
    "        reusing functions for duplicating the common blocks of layers\n",
    "        \n",
    "#### Application:\n",
    "\n",
    "    Given image → find object name in the image\n",
    "    It can detect any one of 1000 images\n",
    "    It takes input image of size 224 * 224 * 3 (RGB image)"
   ]
  },
  {
   "cell_type": "code",
   "execution_count": 2,
   "metadata": {},
   "outputs": [
    {
     "data": {
      "image/png": "[encoded data removed]",
      "text/plain": [
       "<IPython.core.display.Image object>"
      ]
     },
     "execution_count": 2,
     "metadata": {},
     "output_type": "execute_result"
    }
   ],
   "source": [
    "Image(filename='vgg16.png')"
   ]
  },
  {
   "cell_type": "code",
   "execution_count": 4,
   "metadata": {},
   "outputs": [],
   "source": [
    "model = Sequential()\n",
    "model.add(Conv2D(64, (3, 3), strides=(1, 1), padding=\"same\", activation=\"relu\", input_shape=(224,224,3)))\n",
    "model.add(Conv2D(64, (3, 3), strides=(1, 1), padding=\"same\", activation=\"relu\"))\n",
    "model.add(MaxPooling2D(pool_size=(2,2), strides=(2,2)))\n",
    "\n",
    "\n",
    "i=128\n",
    "model.add(Conv2D(i, (3, 3), strides=(1, 1), padding=\"same\", activation=\"relu\"))\n",
    "model.add(Conv2D(i, (3, 3), strides=(1, 1), padding=\"same\", activation=\"relu\"))\n",
    "model.add(MaxPooling2D(pool_size=(2,2), strides=(2,2)))\n",
    "\n",
    "i=256\n",
    "model.add(Conv2D(i, (3, 3), strides=(1, 1), padding=\"same\", activation=\"relu\"))\n",
    "model.add(Conv2D(i, (3, 3), strides=(1, 1), padding=\"same\", activation=\"relu\"))\n",
    "model.add(Conv2D(i, (3, 3), strides=(1, 1), padding=\"same\", activation=\"relu\"))\n",
    "model.add(MaxPooling2D(pool_size=(2,2), strides=(2,2)))\n",
    "\n",
    "i=256*2\n",
    "model.add(Conv2D(i, (3, 3), strides=(1, 1), padding=\"same\", activation=\"relu\"))\n",
    "model.add(Conv2D(i, (3, 3), strides=(1, 1), padding=\"same\", activation=\"relu\"))\n",
    "model.add(Conv2D(i, (3, 3), strides=(1, 1), padding=\"same\", activation=\"relu\"))\n",
    "model.add(MaxPooling2D(pool_size=(2,2), strides=(2,2)))\n",
    "\n",
    "# final convolution block\n",
    "i=256*2\n",
    "model.add(Conv2D(i, (3, 3), strides=(1, 1), padding=\"same\", activation=\"relu\"))\n",
    "model.add(Conv2D(i, (3, 3), strides=(1, 1), padding=\"same\", activation=\"relu\"))\n",
    "model.add(Conv2D(i, (3, 3), strides=(1, 1), padding=\"same\", activation=\"relu\"))\n",
    "model.add(MaxPooling2D(pool_size=(2,2), strides=(2,2)))\n",
    "\n",
    "# DNN backend\n",
    "model.add(Flatten())\n",
    "model.add(Dense(4096, activation='relu'))\n",
    "model.add(Dense(4096, activation='relu'))\n",
    "\n",
    "# output layer for classification(1000)\n",
    "model.add(Dense(1000, activation = 'softmax'))\n",
    "\n",
    "model.compile(loss='categorical_crossentropy', optimizer='adam', metrics = ['accuracy'])\n"
   ]
  },
  {
   "cell_type": "code",
   "execution_count": 5,
   "metadata": {
    "scrolled": true
   },
   "outputs": [
    {
     "name": "stdout",
     "output_type": "stream",
     "text": [
      "Model: \"sequential_1\"\n",
      "_________________________________________________________________\n",
      "Layer (type)                 Output Shape              Param #   \n",
      "=================================================================\n",
      "conv2d_3 (Conv2D)            (None, 224, 224, 64)      1792      \n",
      "_________________________________________________________________\n",
      "conv2d_4 (Conv2D)            (None, 224, 224, 64)      36928     \n",
      "_________________________________________________________________\n",
      "max_pooling2d_1 (MaxPooling2 (None, 112, 112, 64)      0         \n",
      "_________________________________________________________________\n",
      "conv2d_5 (Conv2D)            (None, 112, 112, 128)     73856     \n",
      "_________________________________________________________________\n",
      "conv2d_6 (Conv2D)            (None, 112, 112, 128)     147584    \n",
      "_________________________________________________________________\n",
      "max_pooling2d_2 (MaxPooling2 (None, 56, 56, 128)       0         \n",
      "_________________________________________________________________\n",
      "conv2d_7 (Conv2D)            (None, 56, 56, 256)       295168    \n",
      "_________________________________________________________________\n",
      "conv2d_8 (Conv2D)            (None, 56, 56, 256)       590080    \n",
      "_________________________________________________________________\n",
      "conv2d_9 (Conv2D)            (None, 56, 56, 256)       590080    \n",
      "_________________________________________________________________\n",
      "max_pooling2d_3 (MaxPooling2 (None, 28, 28, 256)       0         \n",
      "_________________________________________________________________\n",
      "conv2d_10 (Conv2D)           (None, 28, 28, 512)       1180160   \n",
      "_________________________________________________________________\n",
      "conv2d_11 (Conv2D)           (None, 28, 28, 512)       2359808   \n",
      "_________________________________________________________________\n",
      "conv2d_12 (Conv2D)           (None, 28, 28, 512)       2359808   \n",
      "_________________________________________________________________\n",
      "max_pooling2d_4 (MaxPooling2 (None, 14, 14, 512)       0         \n",
      "_________________________________________________________________\n",
      "conv2d_13 (Conv2D)           (None, 14, 14, 512)       2359808   \n",
      "_________________________________________________________________\n",
      "conv2d_14 (Conv2D)           (None, 14, 14, 512)       2359808   \n",
      "_________________________________________________________________\n",
      "conv2d_15 (Conv2D)           (None, 14, 14, 512)       2359808   \n",
      "_________________________________________________________________\n",
      "max_pooling2d_5 (MaxPooling2 (None, 7, 7, 512)         0         \n",
      "_________________________________________________________________\n",
      "flatten_1 (Flatten)          (None, 25088)             0         \n",
      "_________________________________________________________________\n",
      "dense (Dense)                (None, 4096)              102764544 \n",
      "_________________________________________________________________\n",
      "dense_1 (Dense)              (None, 4096)              16781312  \n",
      "_________________________________________________________________\n",
      "dense_2 (Dense)              (None, 1000)              4097000   \n",
      "=================================================================\n",
      "Total params: 138,357,544\n",
      "Trainable params: 138,357,544\n",
      "Non-trainable params: 0\n",
      "_________________________________________________________________\n"
     ]
    }
   ],
   "source": [
    "model.summary()"
   ]
  },
  {
   "cell_type": "markdown",
   "metadata": {},
   "source": [
    "### VGG 16 Using loops"
   ]
  },
  {
   "cell_type": "code",
   "execution_count": 11,
   "metadata": {},
   "outputs": [],
   "source": [
    "def conv_block(n_layers,n_filters):\n",
    "    \n",
    "    for n in range(n_layers):\n",
    "        model.add(Conv2D(n_filters, (3, 3), strides=(1, 1), padding=\"same\", activation='relu'))\n",
    "    \n",
    "    #model.add(MaxPooling2D(pool_size=(2,2), strides=(2,2)))\n",
    "    model.add(MaxPooling2D(2, strides=2))\n",
    "\n",
    "# convolution frontend\n",
    "model = Sequential()\n",
    "model.add(Conv2D(64, (3, 3), strides=(1, 1), padding=\"same\", activation=\"relu\", input_shape=(224,224,3)))\n",
    "\n",
    "conv_block(1,64)\n",
    "conv_block(2,128)\n",
    "conv_block(3,256)\n",
    "conv_block(3,512)\n",
    "conv_block(3,512)\n",
    "\n",
    "# rest is same\n",
    "# DNN backend\n",
    "model.add(Flatten())\n",
    "model.add(Dense(4096, activation='relu'))\n",
    "model.add(Dense(4096, activation='relu'))\n",
    "\n",
    "# output layer for classification(1000)\n",
    "model.add(Dense(1000, activation = 'softmax'))\n",
    "\n",
    "model.compile(loss='categorical_crossentropy', optimizer='adam', metrics = ['accuracy'])\n",
    "\n"
   ]
  },
  {
   "cell_type": "markdown",
   "metadata": {},
   "source": [
    "# ResNet network"
   ]
  },
  {
   "cell_type": "code",
   "execution_count": null,
   "metadata": {},
   "outputs": [],
   "source": [
    "def residual_block(n_filters, x):\n",
    "    \"\"\" Create a Residual Block of Convolutions\n",
    "        n_filters: number of filters\n",
    "        x        : input into the block\n",
    "    \"\"\"\n",
    "    shortcut = x\n",
    "    x = layers.Conv2D(n_filters, (3, 3), strides=(1, 1), padding=\"same\",  activation=\"relu\")(x)\n",
    "    x = layers.Conv2D(n_filters, (3, 3), strides=(1, 1), padding=\"same\",  activation=\"relu\")(x)\n",
    "    x = layers.Add([shortcut, x])\n",
    "    return x\n",
    "\n",
    "def conv_block(n_filters, x):\n",
    "    \"\"\" Create Block of Convolutions without Pooling\n",
    "        n_filters: number of filters\n",
    "        x        : input into the block\n",
    "    \"\"\"\n",
    "    x = layers.Conv2D(n_filters, (3, 3), strides=(2, 2), padding=\"same\", activation=\"relu\")(x)\n",
    "    x = layers.Conv2D(n_filters, (3, 3), strides=(2, 2), padding=\"same\", activation=\"relu\")(x)\n",
    "    return x\n"
   ]
  },
  {
   "cell_type": "code",
   "execution_count": null,
   "metadata": {},
   "outputs": [],
   "source": []
  },
  {
   "cell_type": "code",
   "execution_count": null,
   "metadata": {},
   "outputs": [],
   "source": [
    "model.summary()"
   ]
  }
 ],
 "metadata": {
  "kernelspec": {
   "display_name": "Python 3",
   "language": "python",
   "name": "python3"
  },
  "language_info": {
   "codemirror_mode": {
    "name": "ipython",
    "version": 3
   },
   "file_extension": ".py",
   "mimetype": "text/x-python",
   "name": "python",
   "nbconvert_exporter": "python",
   "pygments_lexer": "ipython3",
   "version": "3.7.4"
  }
 },
 "nbformat": 4,
 "nbformat_minor": 2
}
