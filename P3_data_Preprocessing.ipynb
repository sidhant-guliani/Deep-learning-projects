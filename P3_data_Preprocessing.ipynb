{
 "cells": [
  {
   "cell_type": "markdown",
   "metadata": {},
   "source": [
    "### Purpose of notebook:\n",
    "1. Reading and Resizing images using openCV\n",
    "                \n",
    "       Resizing by setting the padding at top and bottom so that the aspect ratio of the image is not gone.\n",
    "2. Assembling images into datasets\n",
    "3. Setting the datatype\n",
    "4. Normalizing/Standardizing images"
   ]
  },
  {
   "cell_type": "code",
   "execution_count": 2,
   "metadata": {},
   "outputs": [],
   "source": [
    "import cv2\n",
    "import numpy as np\n",
    "from urllib.request import urlopen\n"
   ]
  },
  {
   "cell_type": "code",
   "execution_count": 3,
   "metadata": {},
   "outputs": [],
   "source": [
    "url = \"https://github.com/GoogleCloudPlatform/keras-idiomatic-programmer/blob/master/books/deep-learning-design-patterns/Workshops/Novice/apple.jpg?raw=true\"\n",
    "request = urlopen(url)"
   ]
  },
  {
   "cell_type": "code",
   "execution_count": 5,
   "metadata": {},
   "outputs": [],
   "source": [
    "img_array = np.asarray(bytearray(request.read()), dtype=np.uint8)\n",
    "image = cv2.imdecode(img_array, cv2.IMREAD_COLOR)"
   ]
  },
  {
   "cell_type": "code",
   "execution_count": 7,
   "metadata": {},
   "outputs": [
    {
     "data": {
      "text/plain": [
       "(584, 612, 3)"
      ]
     },
     "execution_count": 7,
     "metadata": {},
     "output_type": "execute_result"
    }
   ],
   "source": [
    "image.shape"
   ]
  },
  {
   "cell_type": "markdown",
   "metadata": {},
   "source": [
    "Note:\n",
    "The height and width of image are not same, its not square. we will resize that to 128 X 128, problemis that the image will be skewed. we will distort the aspect ratio. \n",
    "\n",
    "How to do this?\n",
    "\n",
    "we will refit the image in square frame  and then resize it. \n",
    "#### We will set the padding for top and bottom"
   ]
  },
  {
   "cell_type": "code",
   "execution_count": 8,
   "metadata": {},
   "outputs": [
    {
     "name": "stdout",
     "output_type": "stream",
     "text": [
      "pad size 28\n",
      "padded image (612, 612, 3)\n"
     ]
    }
   ],
   "source": [
    "# Let's calculate the difference between width and height -- this should output 28\n",
    "pad = (612 - 584)\n",
    "print(\"pad size\", pad)\n",
    "\n",
    "# Split the padding evenly between the top and bottom\n",
    "top = pad // 2\n",
    "bottom = pad // 2\n",
    "left = 0\n",
    "right = 0\n",
    "\n",
    "# Let's now make a copy of the image with the padded border.\n",
    "# cv2.BORDER_CONSTANT means use a constant value for the padded border.\n",
    "# [0, 0, 0] is the constant value (all black pixels)\n",
    "color = [0, 0, 0]\n",
    "image = cv2.copyMakeBorder(image, top, bottom, left, right, cv2.BORDER_CONSTANT, \n",
    "                               value=color)\n",
    "\n",
    "# This should output (612, 612, 3)\n",
    "print(\"padded image\", image.shape)"
   ]
  },
  {
   "cell_type": "code",
   "execution_count": 9,
   "metadata": {},
   "outputs": [
    {
     "name": "stdout",
     "output_type": "stream",
     "text": [
      "resized image (128, 128, 3)\n"
     ]
    }
   ],
   "source": [
    "#Let's resize the image now to 128 x 128\n",
    "image = cv2.resize(image, (128, 128))\n",
    "print(\"resized image\", image.shape)"
   ]
  },
  {
   "cell_type": "code",
   "execution_count": null,
   "metadata": {},
   "outputs": [],
   "source": []
  }
 ],
 "metadata": {
  "kernelspec": {
   "display_name": "Python 3",
   "language": "python",
   "name": "python3"
  },
  "language_info": {
   "codemirror_mode": {
    "name": "ipython",
    "version": 3
   },
   "file_extension": ".py",
   "mimetype": "text/x-python",
   "name": "python",
   "nbconvert_exporter": "python",
   "pygments_lexer": "ipython3",
   "version": "3.7.4"
  }
 },
 "nbformat": 4,
 "nbformat_minor": 2
}
