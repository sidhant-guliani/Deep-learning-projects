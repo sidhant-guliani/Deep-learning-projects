{
 "cells": [
  {
   "cell_type": "markdown",
   "metadata": {},
   "source": [
    "ANN: Artificial neural network\n",
    "\n",
    "DNN: Deep neural network\n"
   ]
  },
  {
   "cell_type": "code",
   "execution_count": 5,
   "metadata": {},
   "outputs": [],
   "source": [
    "import tensorflow as tf\n",
    "from tensorflow.keras import Sequential, Model, Input\n",
    "from tensorflow.keras.layers import Dense, ReLU, Activation, Flatten, Dropout, Conv2D, MaxPooling2D"
   ]
  },
  {
   "cell_type": "markdown",
   "metadata": {},
   "source": [
    "#### There are two types \n",
    "    Sequential API\n",
    "    Functional API\n",
    "\n",
    "Using Sequential API"
   ]
  },
  {
   "cell_type": "code",
   "execution_count": 4,
   "metadata": {},
   "outputs": [],
   "source": [
    "# import sequential object (we have an empty model now)\n",
    "model = Sequential()\n",
    "\n",
    "# we are adding first layer (input) (10 nodes) with input shape 13 element vector (1D)\n",
    "model.add(Dense(10,input_shape=(13,), activation ='relu')) \n",
    "\n",
    "# specify hidden layer\n",
    "model.add(Dense(10, activation ='relu'))\n",
    "\n",
    "#Add the third layerof 1 node (output)\n",
    "model.add(Dense(1))\n",
    "model.compile(loss='mse', optimizer='rmsprop')"
   ]
  },
  {
   "cell_type": "code",
   "execution_count": 5,
   "metadata": {},
   "outputs": [
    {
     "name": "stdout",
     "output_type": "stream",
     "text": [
      "Model: \"sequential_2\"\n",
      "_________________________________________________________________\n",
      "Layer (type)                 Output Shape              Param #   \n",
      "=================================================================\n",
      "dense_5 (Dense)              (None, 10)                140       \n",
      "_________________________________________________________________\n",
      "dense_6 (Dense)              (None, 10)                110       \n",
      "_________________________________________________________________\n",
      "dense_7 (Dense)              (None, 1)                 11        \n",
      "=================================================================\n",
      "Total params: 261\n",
      "Trainable params: 261\n",
      "Non-trainable params: 0\n",
      "_________________________________________________________________\n"
     ]
    }
   ],
   "source": [
    "model.summary()"
   ]
  },
  {
   "cell_type": "raw",
   "metadata": {},
   "source": [
    "Binary Classifier"
   ]
  },
  {
   "cell_type": "code",
   "execution_count": 8,
   "metadata": {},
   "outputs": [],
   "source": [
    "model = Sequential()\n",
    "# we are adding first layer (input) (10 nodes) with input shape 13 element vector (1D)\n",
    "model.add(Dense(10,input_shape=(13,), activation ='relu')) \n",
    "# specify hidden layer\n",
    "model.add(Dense(10, activation ='relu'))\n",
    "#Add the third layerof 1 node (output)\n",
    "model.add(Dense(1, activation = 'sigmoid'))\n",
    "# we added the sigmond here to pass the result from the final node through a sigmond function\n",
    "\n",
    "# we are using the binary classifier so we are going to change the loss parameter here\n",
    "model.compile(loss='binary_crossentropy', optimizer='rmsprop', metrics = ['accuracy'])\n"
   ]
  },
  {
   "cell_type": "markdown",
   "metadata": {},
   "source": [
    "Multiclass classifier\n",
    "\n",
    "Notes: We are going to use Adam optimizer here (it encorporates root mean square, adapative gradiant methods)"
   ]
  },
  {
   "cell_type": "code",
   "execution_count": 12,
   "metadata": {},
   "outputs": [],
   "source": [
    "model = Sequential()\n",
    "# we are adding first layer (input) (10 nodes) with input shape 4 element vector (1D)\n",
    "# here its 4 because there are only 4 parameters in our dataset\n",
    "model.add(Dense(10, input_shape=(4,), activation ='relu')) \n",
    "\n",
    "# specify hidden layer\n",
    "model.add(Dense(10, activation ='relu'))\n",
    "\n",
    "#Add the third layerof 5 nodes (output) because there are 5 classes/labels\n",
    "model.add(Dense(1, activation = 'softmax'))\n",
    "\n",
    "model.compile(loss='categorical_crossentropy', optimizer='adam', metrics = ['accuracy'])\n"
   ]
  },
  {
   "cell_type": "markdown",
   "metadata": {},
   "source": []
  },
  {
   "cell_type": "code",
   "execution_count": null,
   "metadata": {},
   "outputs": [],
   "source": [
    "model = Sequential()\n",
    "# we are adding first layer (input) (10 nodes) with input shape 4 element vector (1D)\n",
    "# here its 3 because there are only 3 parameters in our dataset\n",
    "model.add(Dense(10, input_shape=(3,), activation ='relu')) \n",
    "# specify hidden layer\n",
    "model.add(Dense(10, activation ='relu'))\n",
    "\n",
    "#Add the third layerof 7 node (output) (5 for age froup and 2 for gender)\n",
    "model.add(Dense(7, activation = 'softmax'))\n",
    "\n",
    "model.compile(loss='categorical_crossentropy', optimizer='adam', metrics = ['accuracy'])\n"
   ]
  },
  {
   "cell_type": "markdown",
   "metadata": {},
   "source": [
    "Using functional API"
   ]
  },
  {
   "cell_type": "code",
   "execution_count": null,
   "metadata": {},
   "outputs": [],
   "source": [
    "\n",
    "# creating the input vector\n",
    "inputs=Input((13,))\n",
    "\n",
    "# creating the first(input) layer\n",
    "input = Dense(10)(inputs)\n",
    "hidden = Dense(10)(input)\n",
    "output = Dense(1)(hidden)\n",
    "\n",
    "model = Model(inputs, output)"
   ]
  },
  {
   "cell_type": "markdown",
   "metadata": {},
   "source": [
    "Binary classifier for \"Functional API approach\".\n"
   ]
  },
  {
   "cell_type": "code",
   "execution_count": null,
   "metadata": {},
   "outputs": [],
   "source": [
    "inputs=Input((13,))\n",
    "\n",
    "# creating the first(input) layer and tying the input vector\n",
    "input = Dense(10)(inputs)\n",
    "x = Dense(10)(input) #input layer\n",
    "x = Activation('relu')(x)\n",
    "x = Dense(10)(x) #hidden layer \n",
    "x = Activation('relu')(x)\n",
    "x = Dense(1)(x) #output layer\n",
    "outputs = Activation('sigmoid')(x)\n",
    "\n",
    "model = Model(inputs, output)"
   ]
  },
  {
   "cell_type": "markdown",
   "metadata": {},
   "source": [
    "Multi label Multicall Classifier"
   ]
  },
  {
   "cell_type": "code",
   "execution_count": 14,
   "metadata": {},
   "outputs": [],
   "source": [
    "inputs=Input((3,))\n",
    "\n",
    "# Creating the first(input) layer and tying the input vector\n",
    "x = Dense(10, activation='relu')(inputs) # input layer\n",
    "x = Dense(10, activation='relu')(x) #hidden layer \n",
    "\n",
    "# Creating two output layers and connecting them to the hidden layer\n",
    "# They both are taking copy for the hidden layer, at this step we are branching it.\n",
    "output1 = Dense(5,activation='softmax')(x) #output layer for \"age group\"\n",
    "output2 = Dense(2,activation='softmax')(x) # output layer for \"gender\"\n",
    "\n",
    "model = Model(inputs, [output1, output2])\n",
    "\n",
    "model.compile(loss='categorical_crossentropy', optimizer='adam', metrics = ['accuracy'])"
   ]
  },
  {
   "cell_type": "markdown",
   "metadata": {},
   "source": [
    "### Flattenign of layer and Regularization (using dropout) to avoid overfititng\n",
    "\n",
    "We add a layer at the beginning of our neural network to flatten the input,using class flatten. here we are workign towards MNIST dataset"
   ]
  },
  {
   "cell_type": "code",
   "execution_count": 17,
   "metadata": {},
   "outputs": [],
   "source": [
    "model = Sequential()\n",
    "#taking the put as 28*28 matrix and flattening it to 784 vector\n",
    "model.add(Flatten(input_shape = (28,28)))\n",
    "model.add(Dense(512, activation = 'relu'))\n",
    "model.add(Dropout(0.5))\n",
    "model.add(Dense(512, activation ='relu'))\n",
    "model.add(Dropout(0.5))\n",
    "\n",
    "#Add the third layerof 10 node (output) as the output can be any of 7 digits\n",
    "model.add(Dense(10, activation = 'softmax'))\n",
    "# the result from the final node through a softmax function\n",
    "\n",
    "# we are using the binary classifier so we are going to change the loss parameter here\n",
    "model.compile(loss='categorical_crossentropy', optimizer='adam', metrics = ['accuracy'])\n"
   ]
  },
  {
   "cell_type": "code",
   "execution_count": 18,
   "metadata": {},
   "outputs": [
    {
     "name": "stdout",
     "output_type": "stream",
     "text": [
      "Model: \"sequential_9\"\n",
      "_________________________________________________________________\n",
      "Layer (type)                 Output Shape              Param #   \n",
      "=================================================================\n",
      "flatten (Flatten)            (None, 784)               0         \n",
      "_________________________________________________________________\n",
      "dense_30 (Dense)             (None, 512)               401920    \n",
      "_________________________________________________________________\n",
      "dense_31 (Dense)             (None, 512)               262656    \n",
      "_________________________________________________________________\n",
      "dense_32 (Dense)             (None, 10)                5130      \n",
      "=================================================================\n",
      "Total params: 669,706\n",
      "Trainable params: 669,706\n",
      "Non-trainable params: 0\n",
      "_________________________________________________________________\n"
     ]
    }
   ],
   "source": [
    "model.summary()"
   ]
  },
  {
   "cell_type": "markdown",
   "metadata": {},
   "source": [
    "### CNN basic sequential Model\n",
    "\n",
    "We start by adding a convolutional layer of 16 filters as the first layer using the Conv2D class objec1."
   ]
  },
  {
   "cell_type": "code",
   "execution_count": 7,
   "metadata": {},
   "outputs": [],
   "source": [
    "\n",
    "model = Sequential()\n",
    "# Create a convolutional layer with 16 3x3 filters and stride of two as the input layer\n",
    "# size of each filter will be a 3x3, which is specified by the parameter kernel_size\n",
    "# stride (2,2), the first digit is for horizontal stride and the second is for vertical stride\n",
    "model.add(Conv2D(16, kernel_size=(3, 3), strides=(2, 2), padding=\"same\", input_shape=(128,128,1)))\n",
    "\n",
    "# next step is to pass the output(features map) from the input layer through a rectified linear unit activation funciton \n",
    "model.add(ReLU())\n",
    "\n",
    "# next step is to downsample the feature map into smaller pooled feature map\n",
    "model.add(MaxPooling2D(pool_size=(2,2), strides=(2,2)))"
   ]
  },
  {
   "cell_type": "code",
   "execution_count": null,
   "metadata": {},
   "outputs": [],
   "source": []
  }
 ],
 "metadata": {
  "kernelspec": {
   "display_name": "Python 3",
   "language": "python",
   "name": "python3"
  },
  "language_info": {
   "codemirror_mode": {
    "name": "ipython",
    "version": 3
   },
   "file_extension": ".py",
   "mimetype": "text/x-python",
   "name": "python",
   "nbconvert_exporter": "python",
   "pygments_lexer": "ipython3",
   "version": "3.7.4"
  }
 },
 "nbformat": 4,
 "nbformat_minor": 2
}
